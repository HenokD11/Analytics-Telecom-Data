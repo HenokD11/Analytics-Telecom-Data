{
 "cells": [
  {
   "cell_type": "markdown",
   "id": "002072f1",
   "metadata": {},
   "source": [
    "<b>`Import Libraries`</b>"
   ]
  },
  {
   "cell_type": "code",
   "execution_count": 278,
   "id": "4c81424e",
   "metadata": {},
   "outputs": [],
   "source": [
    "# Import all the libraries for Data Analysis, Visualisation, Random Forest & Logisic Regression\n",
    "\n",
    "# Libraries for Dataset analysis\n",
    "import pandas as pd\n",
    "import numpy as np\n",
    "\n",
    "# Ignore Warnings\n",
    "import warnings\n",
    "warnings.filterwarnings('ignore')\n",
    "\n",
    "# For Data Visualisation\n",
    "import matplotlib.pyplot as plt\n",
    "import seaborn as sns\n",
    "%matplotlib inline\n",
    "\n",
    "# To Split the data into traning & test data sets\n",
    "from sklearn.model_selection import train_test_split\n",
    "\n",
    "# For Standardisation & Scaling\n",
    "from sklearn.preprocessing import scale\n",
    "from sklearn.preprocessing import StandardScaler\n",
    "from sklearn.preprocessing import Normalizer\n",
    "# For building logistic regression model\n",
    "import statsmodels.api as sm\n",
    "from sklearn.cluster import KMeans\n",
    "from kneed import KneeLocator\n",
    "# Import RFE used in feature elimination\n",
    "from sklearn.linear_model import LogisticRegression\n",
    "from sklearn.feature_selection import RFE\n",
    "\n",
    "# Check for VIF value of the variable\n",
    "from statsmodels.stats.outliers_influence import variance_inflation_factor\n",
    "\n",
    "# Import  compute accuracy scores & Confusion matrix\n",
    "from sklearn import metrics\n",
    "from sklearn.metrics import confusion_matrix\n",
    "from sklearn.metrics import precision_score, recall_score\n",
    "from sklearn.metrics import precision_recall_curve\n",
    "\n",
    "from sklearn.ensemble import RandomForestClassifier\n",
    "from sklearn.tree import DecisionTreeClassifier\n",
    "from sklearn.ensemble import AdaBoostClassifier\n",
    "from sklearn.ensemble import GradientBoostingClassifier\n",
    "\n",
    "import xgboost as xgb\n",
    "from xgboost import XGBClassifier\n",
    "from xgboost import plot_importance\n",
    "import gc \n",
    "\n",
    "from sklearn.metrics import classification_report,confusion_matrix,accuracy_score\n",
    "                        \n",
    "from sklearn.model_selection import KFold\n",
    "from sklearn.model_selection import GridSearchCV\n",
    "\n",
    "#Importing the PCA module\n",
    "from sklearn.decomposition import PCA\n",
    "\n",
    "# import SMOTE module from imblearn library \n",
    "from imblearn.over_sampling import SMOTE\n",
    "\n",
    "# For building logistic regression model\n",
    "import statsmodels.api as sm\n",
    "\n",
    "# Import RFE used in feature elimination\n",
    "from sklearn.linear_model import LogisticRegression\n",
    "from sklearn.feature_selection import RFE"
   ]
  },
  {
   "cell_type": "code",
   "execution_count": null,
   "id": "ea2d41f3",
   "metadata": {},
   "outputs": [],
   "source": []
  },
  {
   "cell_type": "markdown",
   "id": "586d0be5",
   "metadata": {},
   "source": [
    "<b>`TASK 2: USER ENGAGEMENT ANALYSIS`\n",
    "    \n",
    "    Track the user’s engagement using the following engagement metrics:\n",
    "\n",
    "        1. sessions frequency\n",
    "        2. the duration of the session\n",
    "        3. the sessions total traffic (download and upload (bytes))"
   ]
  },
  {
   "cell_type": "code",
   "execution_count": 281,
   "id": "cef89aea",
   "metadata": {},
   "outputs": [
    {
     "data": {
      "text/html": [
       "<div>\n",
       "<style scoped>\n",
       "    .dataframe tbody tr th:only-of-type {\n",
       "        vertical-align: middle;\n",
       "    }\n",
       "\n",
       "    .dataframe tbody tr th {\n",
       "        vertical-align: top;\n",
       "    }\n",
       "\n",
       "    .dataframe thead th {\n",
       "        text-align: right;\n",
       "    }\n",
       "</style>\n",
       "<table border=\"1\" class=\"dataframe\">\n",
       "  <thead>\n",
       "    <tr style=\"text-align: right;\">\n",
       "      <th></th>\n",
       "      <th>bearer_id</th>\n",
       "      <th>start</th>\n",
       "      <th>start_ms</th>\n",
       "      <th>end</th>\n",
       "      <th>end_ms</th>\n",
       "      <th>dur._(ms)</th>\n",
       "      <th>imsi</th>\n",
       "      <th>msisdn/number</th>\n",
       "      <th>imei</th>\n",
       "      <th>last_location_name</th>\n",
       "      <th>...</th>\n",
       "      <th>total_ul_(bytes)</th>\n",
       "      <th>total_dl_(bytes)</th>\n",
       "      <th>social_media</th>\n",
       "      <th>google</th>\n",
       "      <th>email</th>\n",
       "      <th>youtube</th>\n",
       "      <th>netflix</th>\n",
       "      <th>gaming</th>\n",
       "      <th>other</th>\n",
       "      <th>total_data</th>\n",
       "    </tr>\n",
       "  </thead>\n",
       "  <tbody>\n",
       "    <tr>\n",
       "      <th>0</th>\n",
       "      <td>1.311448e+19</td>\n",
       "      <td>2019-04-04 12:01:18</td>\n",
       "      <td>770.0</td>\n",
       "      <td>2019-04-25 14:35:31</td>\n",
       "      <td>662.0</td>\n",
       "      <td>1823652.0</td>\n",
       "      <td>2.082014e+14</td>\n",
       "      <td>3.366496e+10</td>\n",
       "      <td>3.552121e+13</td>\n",
       "      <td>9164566995485190</td>\n",
       "      <td>...</td>\n",
       "      <td>36749741.0</td>\n",
       "      <td>308879636.0</td>\n",
       "      <td>1.570185</td>\n",
       "      <td>2.905912</td>\n",
       "      <td>3.701304</td>\n",
       "      <td>18.355943</td>\n",
       "      <td>17.855187</td>\n",
       "      <td>292.426453</td>\n",
       "      <td>180.558843</td>\n",
       "      <td>345.629377</td>\n",
       "    </tr>\n",
       "    <tr>\n",
       "      <th>1</th>\n",
       "      <td>1.311448e+19</td>\n",
       "      <td>2019-04-09 13:04:04</td>\n",
       "      <td>235.0</td>\n",
       "      <td>2019-04-25 08:15:48</td>\n",
       "      <td>606.0</td>\n",
       "      <td>1365104.0</td>\n",
       "      <td>2.082019e+14</td>\n",
       "      <td>3.368185e+10</td>\n",
       "      <td>3.579401e+13</td>\n",
       "      <td>L77566A</td>\n",
       "      <td>...</td>\n",
       "      <td>53800391.0</td>\n",
       "      <td>653384965.0</td>\n",
       "      <td>1.933278</td>\n",
       "      <td>4.414096</td>\n",
       "      <td>0.937385</td>\n",
       "      <td>39.359124</td>\n",
       "      <td>35.565545</td>\n",
       "      <td>609.920783</td>\n",
       "      <td>541.959383</td>\n",
       "      <td>707.185356</td>\n",
       "    </tr>\n",
       "    <tr>\n",
       "      <th>2</th>\n",
       "      <td>1.311448e+19</td>\n",
       "      <td>2019-04-09 17:42:11</td>\n",
       "      <td>1.0</td>\n",
       "      <td>2019-04-25 11:58:13</td>\n",
       "      <td>652.0</td>\n",
       "      <td>1361762.0</td>\n",
       "      <td>2.082003e+14</td>\n",
       "      <td>3.376063e+10</td>\n",
       "      <td>3.528151e+13</td>\n",
       "      <td>D42335A</td>\n",
       "      <td>...</td>\n",
       "      <td>27883638.0</td>\n",
       "      <td>279807335.0</td>\n",
       "      <td>1.726277</td>\n",
       "      <td>10.229119</td>\n",
       "      <td>3.363124</td>\n",
       "      <td>34.425237</td>\n",
       "      <td>23.751202</td>\n",
       "      <td>229.980251</td>\n",
       "      <td>414.908351</td>\n",
       "      <td>307.690973</td>\n",
       "    </tr>\n",
       "    <tr>\n",
       "      <th>3</th>\n",
       "      <td>1.311448e+19</td>\n",
       "      <td>2019-04-10 00:31:25</td>\n",
       "      <td>486.0</td>\n",
       "      <td>2019-04-25 07:36:35</td>\n",
       "      <td>171.0</td>\n",
       "      <td>1321509.0</td>\n",
       "      <td>2.082014e+14</td>\n",
       "      <td>3.375034e+10</td>\n",
       "      <td>3.535661e+13</td>\n",
       "      <td>T21824A</td>\n",
       "      <td>...</td>\n",
       "      <td>43324218.0</td>\n",
       "      <td>846028530.0</td>\n",
       "      <td>0.657493</td>\n",
       "      <td>11.811761</td>\n",
       "      <td>2.070983</td>\n",
       "      <td>36.534765</td>\n",
       "      <td>15.092588</td>\n",
       "      <td>810.387875</td>\n",
       "      <td>761.837216</td>\n",
       "      <td>889.352748</td>\n",
       "    </tr>\n",
       "    <tr>\n",
       "      <th>4</th>\n",
       "      <td>1.311448e+19</td>\n",
       "      <td>2019-04-12 20:10:23</td>\n",
       "      <td>565.0</td>\n",
       "      <td>2019-04-25 10:40:32</td>\n",
       "      <td>954.0</td>\n",
       "      <td>1089009.0</td>\n",
       "      <td>2.082014e+14</td>\n",
       "      <td>3.369980e+10</td>\n",
       "      <td>3.540701e+13</td>\n",
       "      <td>D88865A</td>\n",
       "      <td>...</td>\n",
       "      <td>38542814.0</td>\n",
       "      <td>569138589.0</td>\n",
       "      <td>0.912788</td>\n",
       "      <td>7.748843</td>\n",
       "      <td>2.110349</td>\n",
       "      <td>34.222253</td>\n",
       "      <td>17.539799</td>\n",
       "      <td>531.237049</td>\n",
       "      <td>564.619822</td>\n",
       "      <td>607.681403</td>\n",
       "    </tr>\n",
       "  </tbody>\n",
       "</table>\n",
       "<p>5 rows × 63 columns</p>\n",
       "</div>"
      ],
      "text/plain": [
       "      bearer_id                start  start_ms                  end  end_ms  \\\n",
       "0  1.311448e+19  2019-04-04 12:01:18     770.0  2019-04-25 14:35:31   662.0   \n",
       "1  1.311448e+19  2019-04-09 13:04:04     235.0  2019-04-25 08:15:48   606.0   \n",
       "2  1.311448e+19  2019-04-09 17:42:11       1.0  2019-04-25 11:58:13   652.0   \n",
       "3  1.311448e+19  2019-04-10 00:31:25     486.0  2019-04-25 07:36:35   171.0   \n",
       "4  1.311448e+19  2019-04-12 20:10:23     565.0  2019-04-25 10:40:32   954.0   \n",
       "\n",
       "   dur._(ms)          imsi  msisdn/number          imei last_location_name  \\\n",
       "0  1823652.0  2.082014e+14   3.366496e+10  3.552121e+13   9164566995485190   \n",
       "1  1365104.0  2.082019e+14   3.368185e+10  3.579401e+13            L77566A   \n",
       "2  1361762.0  2.082003e+14   3.376063e+10  3.528151e+13            D42335A   \n",
       "3  1321509.0  2.082014e+14   3.375034e+10  3.535661e+13            T21824A   \n",
       "4  1089009.0  2.082014e+14   3.369980e+10  3.540701e+13            D88865A   \n",
       "\n",
       "   ...  total_ul_(bytes)  total_dl_(bytes)  social_media     google     email  \\\n",
       "0  ...        36749741.0       308879636.0      1.570185   2.905912  3.701304   \n",
       "1  ...        53800391.0       653384965.0      1.933278   4.414096  0.937385   \n",
       "2  ...        27883638.0       279807335.0      1.726277  10.229119  3.363124   \n",
       "3  ...        43324218.0       846028530.0      0.657493  11.811761  2.070983   \n",
       "4  ...        38542814.0       569138589.0      0.912788   7.748843  2.110349   \n",
       "\n",
       "     youtube    netflix      gaming       other  total_data  \n",
       "0  18.355943  17.855187  292.426453  180.558843  345.629377  \n",
       "1  39.359124  35.565545  609.920783  541.959383  707.185356  \n",
       "2  34.425237  23.751202  229.980251  414.908351  307.690973  \n",
       "3  36.534765  15.092588  810.387875  761.837216  889.352748  \n",
       "4  34.222253  17.539799  531.237049  564.619822  607.681403  \n",
       "\n",
       "[5 rows x 63 columns]"
      ]
     },
     "execution_count": 281,
     "metadata": {},
     "output_type": "execute_result"
    }
   ],
   "source": [
    "data = pd.read_csv('../data/Task1_clean_data.csv')\n",
    "data.head()"
   ]
  },
  {
   "cell_type": "code",
   "execution_count": 301,
   "id": "b191d025",
   "metadata": {},
   "outputs": [],
   "source": [
    "df = data.copy()"
   ]
  },
  {
   "cell_type": "code",
   "execution_count": 302,
   "id": "60b97f55",
   "metadata": {},
   "outputs": [
    {
     "data": {
      "text/plain": [
       "bearer_id     float64\n",
       "start          object\n",
       "start_ms      float64\n",
       "end            object\n",
       "end_ms        float64\n",
       "               ...   \n",
       "youtube       float64\n",
       "netflix       float64\n",
       "gaming        float64\n",
       "other         float64\n",
       "total_data    float64\n",
       "Length: 63, dtype: object"
      ]
     },
     "execution_count": 302,
     "metadata": {},
     "output_type": "execute_result"
    }
   ],
   "source": [
    "df.dtypes"
   ]
  },
  {
   "cell_type": "code",
   "execution_count": 303,
   "id": "1c066c49",
   "metadata": {},
   "outputs": [
    {
     "name": "stdout",
     "output_type": "stream",
     "text": [
      "58\n"
     ]
    }
   ],
   "source": [
    "# List only the numeric columns\n",
    "numeric_cols = df.select_dtypes(exclude=['object', 'datetime64[ns]']).columns\n",
    "print(len(numeric_cols))"
   ]
  },
  {
   "cell_type": "code",
   "execution_count": 304,
   "id": "5b04e7a9",
   "metadata": {},
   "outputs": [
    {
     "data": {
      "text/plain": [
       "bearer_id     0\n",
       "start         0\n",
       "start_ms      0\n",
       "end           0\n",
       "end_ms        0\n",
       "             ..\n",
       "youtube       0\n",
       "netflix       0\n",
       "gaming        0\n",
       "other         0\n",
       "total_data    0\n",
       "Length: 63, dtype: int64"
      ]
     },
     "execution_count": 304,
     "metadata": {},
     "output_type": "execute_result"
    }
   ],
   "source": [
    "df.isna().sum()"
   ]
  },
  {
   "cell_type": "markdown",
   "id": "b273f4d2",
   "metadata": {},
   "source": [
    "<b>`2.1.1 - \n",
    "    Top 10 customers per engagement metric`</b>\n",
    "    \n",
    "   `How often do customers use diffrent apps?\n",
    "    What is the average usage of apps per customer per app`"
   ]
  },
  {
   "cell_type": "code",
   "execution_count": null,
   "id": "3daa6592",
   "metadata": {},
   "outputs": [],
   "source": []
  },
  {
   "cell_type": "code",
   "execution_count": 305,
   "id": "aac90a51",
   "metadata": {},
   "outputs": [],
   "source": [
    "df.columns = [column.replace(' ', '_').lower() for column in df.columns]"
   ]
  },
  {
   "cell_type": "markdown",
   "id": "642c22f0",
   "metadata": {},
   "source": [
    "<i>`Top 10 customers per session freuency`</i>"
   ]
  },
  {
   "cell_type": "code",
   "execution_count": 306,
   "id": "06460c50",
   "metadata": {},
   "outputs": [
    {
     "data": {
      "text/html": [
       "<div>\n",
       "<style scoped>\n",
       "    .dataframe tbody tr th:only-of-type {\n",
       "        vertical-align: middle;\n",
       "    }\n",
       "\n",
       "    .dataframe tbody tr th {\n",
       "        vertical-align: top;\n",
       "    }\n",
       "\n",
       "    .dataframe thead th {\n",
       "        text-align: right;\n",
       "    }\n",
       "</style>\n",
       "<table border=\"1\" class=\"dataframe\">\n",
       "  <thead>\n",
       "    <tr style=\"text-align: right;\">\n",
       "      <th></th>\n",
       "      <th>msisdn/number</th>\n",
       "      <th>bearer_id</th>\n",
       "    </tr>\n",
       "  </thead>\n",
       "  <tbody>\n",
       "    <tr>\n",
       "      <th>53644</th>\n",
       "      <td>3.366371e+10</td>\n",
       "      <td>1067</td>\n",
       "    </tr>\n",
       "    <tr>\n",
       "      <th>13526</th>\n",
       "      <td>3.362632e+10</td>\n",
       "      <td>18</td>\n",
       "    </tr>\n",
       "    <tr>\n",
       "      <th>6437</th>\n",
       "      <td>3.361489e+10</td>\n",
       "      <td>17</td>\n",
       "    </tr>\n",
       "    <tr>\n",
       "      <th>13180</th>\n",
       "      <td>3.362578e+10</td>\n",
       "      <td>17</td>\n",
       "    </tr>\n",
       "    <tr>\n",
       "      <th>37052</th>\n",
       "      <td>3.365973e+10</td>\n",
       "      <td>16</td>\n",
       "    </tr>\n",
       "    <tr>\n",
       "      <th>76363</th>\n",
       "      <td>3.367588e+10</td>\n",
       "      <td>15</td>\n",
       "    </tr>\n",
       "    <tr>\n",
       "      <th>92923</th>\n",
       "      <td>3.376054e+10</td>\n",
       "      <td>15</td>\n",
       "    </tr>\n",
       "    <tr>\n",
       "      <th>65118</th>\n",
       "      <td>3.366716e+10</td>\n",
       "      <td>13</td>\n",
       "    </tr>\n",
       "    <tr>\n",
       "      <th>1279</th>\n",
       "      <td>3.360452e+10</td>\n",
       "      <td>12</td>\n",
       "    </tr>\n",
       "    <tr>\n",
       "      <th>92577</th>\n",
       "      <td>3.376041e+10</td>\n",
       "      <td>12</td>\n",
       "    </tr>\n",
       "  </tbody>\n",
       "</table>\n",
       "</div>"
      ],
      "text/plain": [
       "       msisdn/number  bearer_id\n",
       "53644   3.366371e+10       1067\n",
       "13526   3.362632e+10         18\n",
       "6437    3.361489e+10         17\n",
       "13180   3.362578e+10         17\n",
       "37052   3.365973e+10         16\n",
       "76363   3.367588e+10         15\n",
       "92923   3.376054e+10         15\n",
       "65118   3.366716e+10         13\n",
       "1279    3.360452e+10         12\n",
       "92577   3.376041e+10         12"
      ]
     },
     "execution_count": 306,
     "metadata": {},
     "output_type": "execute_result"
    }
   ],
   "source": [
    "top10_customers_by_session=df.groupby('msisdn/number').agg({'bearer_id':'count'}).reset_index().sort_values('bearer_id',ascending=False).head(10)\n",
    "top10_customers_by_session"
   ]
  },
  {
   "cell_type": "code",
   "execution_count": null,
   "id": "0bdadbae",
   "metadata": {},
   "outputs": [],
   "source": []
  },
  {
   "cell_type": "code",
   "execution_count": 288,
   "id": "dad9ea3d",
   "metadata": {},
   "outputs": [
    {
     "data": {
      "text/plain": [
       "Text(0.5, 1.0, 'Top 10 customers by session frequency')"
      ]
     },
     "execution_count": 288,
     "metadata": {},
     "output_type": "execute_result"
    },
    {
     "data": {
      "image/png": "[encoded data removed]",
      "text/plain": [
       "<Figure size 864x576 with 1 Axes>"
      ]
     },
     "metadata": {
      "needs_background": "light"
     },
     "output_type": "display_data"
    }
   ],
   "source": [
    "plt.subplots(figsize=(12,8))\n",
    "sns.barplot(y='bearer_id',x='msisdn/number',data=top10_customers_by_session)\n",
    "plt.xticks(rotation=40)\n",
    "plt.xlabel(\"Customer MSISDN Number\")\n",
    "plt.ylabel(\"Session frequency \")\n",
    "plt.title('Top 10 customers by session frequency',fontsize=18)"
   ]
  },
  {
   "cell_type": "markdown",
   "id": "c0f1acd0",
   "metadata": {},
   "source": [
    "`Customer 33663706799,33614892860,33625779332 have the highest number of sessions, the data is free of outliers but customer number 33663706799 has got the highest session frequency`"
   ]
  },
  {
   "cell_type": "markdown",
   "id": "d769a319",
   "metadata": {},
   "source": [
    "<i>`Top 10 customers based on duration of session`</i>"
   ]
  },
  {
   "cell_type": "code",
   "execution_count": 289,
   "id": "8d409ac2",
   "metadata": {},
   "outputs": [
    {
     "data": {
      "text/html": [
       "<div>\n",
       "<style scoped>\n",
       "    .dataframe tbody tr th:only-of-type {\n",
       "        vertical-align: middle;\n",
       "    }\n",
       "\n",
       "    .dataframe tbody tr th {\n",
       "        vertical-align: top;\n",
       "    }\n",
       "\n",
       "    .dataframe thead th {\n",
       "        text-align: right;\n",
       "    }\n",
       "</style>\n",
       "<table border=\"1\" class=\"dataframe\">\n",
       "  <thead>\n",
       "    <tr style=\"text-align: right;\">\n",
       "      <th></th>\n",
       "      <th>msisdn/number</th>\n",
       "      <th>dur._(ms)</th>\n",
       "    </tr>\n",
       "  </thead>\n",
       "  <tbody>\n",
       "    <tr>\n",
       "      <th>53644</th>\n",
       "      <td>3.366371e+10</td>\n",
       "      <td>72655568.0</td>\n",
       "    </tr>\n",
       "    <tr>\n",
       "      <th>13180</th>\n",
       "      <td>3.362578e+10</td>\n",
       "      <td>18553754.0</td>\n",
       "    </tr>\n",
       "    <tr>\n",
       "      <th>6437</th>\n",
       "      <td>3.361489e+10</td>\n",
       "      <td>9966898.0</td>\n",
       "    </tr>\n",
       "    <tr>\n",
       "      <th>92923</th>\n",
       "      <td>3.376054e+10</td>\n",
       "      <td>9279434.0</td>\n",
       "    </tr>\n",
       "    <tr>\n",
       "      <th>13526</th>\n",
       "      <td>3.362632e+10</td>\n",
       "      <td>8791927.0</td>\n",
       "    </tr>\n",
       "    <tr>\n",
       "      <th>65118</th>\n",
       "      <td>3.366716e+10</td>\n",
       "      <td>8744914.0</td>\n",
       "    </tr>\n",
       "    <tr>\n",
       "      <th>50281</th>\n",
       "      <td>3.366284e+10</td>\n",
       "      <td>6614270.0</td>\n",
       "    </tr>\n",
       "    <tr>\n",
       "      <th>57160</th>\n",
       "      <td>3.366469e+10</td>\n",
       "      <td>6288730.0</td>\n",
       "    </tr>\n",
       "    <tr>\n",
       "      <th>666</th>\n",
       "      <td>3.360313e+10</td>\n",
       "      <td>6287761.0</td>\n",
       "    </tr>\n",
       "    <tr>\n",
       "      <th>66029</th>\n",
       "      <td>3.366746e+10</td>\n",
       "      <td>5649882.0</td>\n",
       "    </tr>\n",
       "  </tbody>\n",
       "</table>\n",
       "</div>"
      ],
      "text/plain": [
       "       msisdn/number   dur._(ms)\n",
       "53644   3.366371e+10  72655568.0\n",
       "13180   3.362578e+10  18553754.0\n",
       "6437    3.361489e+10   9966898.0\n",
       "92923   3.376054e+10   9279434.0\n",
       "13526   3.362632e+10   8791927.0\n",
       "65118   3.366716e+10   8744914.0\n",
       "50281   3.366284e+10   6614270.0\n",
       "57160   3.366469e+10   6288730.0\n",
       "666     3.360313e+10   6287761.0\n",
       "66029   3.366746e+10   5649882.0"
      ]
     },
     "execution_count": 289,
     "metadata": {},
     "output_type": "execute_result"
    }
   ],
   "source": [
    "top10_customers_by_sess_duration=df.groupby('msisdn/number').agg({'dur._(ms)':'sum'}).reset_index().sort_values('dur._(ms)',ascending=False).head(10)\n",
    "top10_customers_by_sess_duration"
   ]
  },
  {
   "cell_type": "code",
   "execution_count": 290,
   "id": "aee91718",
   "metadata": {},
   "outputs": [
    {
     "data": {
      "text/plain": [
       "Text(0.5, 1.0, 'Top 10 customers by duration of sessions')"
      ]
     },
     "execution_count": 290,
     "metadata": {},
     "output_type": "execute_result"
    },
    {
     "data": {
      "image/png": "[encoded data removed]",
      "text/plain": [
       "<Figure size 864x576 with 1 Axes>"
      ]
     },
     "metadata": {
      "needs_background": "light"
     },
     "output_type": "display_data"
    }
   ],
   "source": [
    "plt.subplots(figsize=(12,8))\n",
    "sns.barplot(x='msisdn/number',y='dur._(ms)',data=top10_customers_by_sess_duration)\n",
    "plt.xticks(rotation=40)\n",
    "plt.xlabel(\"Customer MSISDN Number\")\n",
    "plt.ylabel(\"duration of the sessions \")\n",
    "plt.title('Top 10 customers by duration of sessions',fontsize=18)"
   ]
  },
  {
   "cell_type": "markdown",
   "id": "f060d593",
   "metadata": {},
   "source": [
    "<b>`Top 10 customers by total traffic`</b>"
   ]
  },
  {
   "cell_type": "code",
   "execution_count": 291,
   "id": "ed5b33b0",
   "metadata": {},
   "outputs": [
    {
     "data": {
      "text/html": [
       "<div>\n",
       "<style scoped>\n",
       "    .dataframe tbody tr th:only-of-type {\n",
       "        vertical-align: middle;\n",
       "    }\n",
       "\n",
       "    .dataframe tbody tr th {\n",
       "        vertical-align: top;\n",
       "    }\n",
       "\n",
       "    .dataframe thead th {\n",
       "        text-align: right;\n",
       "    }\n",
       "</style>\n",
       "<table border=\"1\" class=\"dataframe\">\n",
       "  <thead>\n",
       "    <tr style=\"text-align: right;\">\n",
       "      <th></th>\n",
       "      <th>msisdn/number</th>\n",
       "      <th>total_data</th>\n",
       "    </tr>\n",
       "  </thead>\n",
       "  <tbody>\n",
       "    <tr>\n",
       "      <th>53644</th>\n",
       "      <td>3.366371e+10</td>\n",
       "      <td>531963.557517</td>\n",
       "    </tr>\n",
       "    <tr>\n",
       "      <th>6437</th>\n",
       "      <td>3.361489e+10</td>\n",
       "      <td>8846.226494</td>\n",
       "    </tr>\n",
       "    <tr>\n",
       "      <th>92923</th>\n",
       "      <td>3.376054e+10</td>\n",
       "      <td>8514.773963</td>\n",
       "    </tr>\n",
       "    <tr>\n",
       "      <th>13180</th>\n",
       "      <td>3.362578e+10</td>\n",
       "      <td>8499.620722</td>\n",
       "    </tr>\n",
       "    <tr>\n",
       "      <th>13526</th>\n",
       "      <td>3.362632e+10</td>\n",
       "      <td>7971.167261</td>\n",
       "    </tr>\n",
       "    <tr>\n",
       "      <th>76363</th>\n",
       "      <td>3.367588e+10</td>\n",
       "      <td>7891.110608</td>\n",
       "    </tr>\n",
       "    <tr>\n",
       "      <th>37052</th>\n",
       "      <td>3.365973e+10</td>\n",
       "      <td>7705.862783</td>\n",
       "    </tr>\n",
       "    <tr>\n",
       "      <th>63028</th>\n",
       "      <td>3.366646e+10</td>\n",
       "      <td>7308.500938</td>\n",
       "    </tr>\n",
       "    <tr>\n",
       "      <th>92577</th>\n",
       "      <td>3.376041e+10</td>\n",
       "      <td>7132.370514</td>\n",
       "    </tr>\n",
       "    <tr>\n",
       "      <th>57241</th>\n",
       "      <td>3.366471e+10</td>\n",
       "      <td>6872.018208</td>\n",
       "    </tr>\n",
       "  </tbody>\n",
       "</table>\n",
       "</div>"
      ],
      "text/plain": [
       "       msisdn/number     total_data\n",
       "53644   3.366371e+10  531963.557517\n",
       "6437    3.361489e+10    8846.226494\n",
       "92923   3.376054e+10    8514.773963\n",
       "13180   3.362578e+10    8499.620722\n",
       "13526   3.362632e+10    7971.167261\n",
       "76363   3.367588e+10    7891.110608\n",
       "37052   3.365973e+10    7705.862783\n",
       "63028   3.366646e+10    7308.500938\n",
       "92577   3.376041e+10    7132.370514\n",
       "57241   3.366471e+10    6872.018208"
      ]
     },
     "execution_count": 291,
     "metadata": {},
     "output_type": "execute_result"
    }
   ],
   "source": [
    "top10_cust_traffic=df.groupby('msisdn/number').agg({'total_data':'sum'}).reset_index().sort_values('total_data',ascending=False).head(10)\n",
    "top10_cust_traffic"
   ]
  },
  {
   "cell_type": "code",
   "execution_count": 292,
   "id": "cee14266",
   "metadata": {},
   "outputs": [
    {
     "data": {
      "text/plain": [
       "Text(0.5, 1.0, 'Top 10 customers by traffic')"
      ]
     },
     "execution_count": 292,
     "metadata": {},
     "output_type": "execute_result"
    },
    {
     "data": {
      "image/png": "[encoded data removed]",
      "text/plain": [
       "<Figure size 864x576 with 1 Axes>"
      ]
     },
     "metadata": {
      "needs_background": "light"
     },
     "output_type": "display_data"
    }
   ],
   "source": [
    "plt.subplots(figsize=(12,8))\n",
    "sns.barplot(x='msisdn/number',y='total_data',data=top10_cust_traffic)\n",
    "plt.xticks(rotation=40)\n",
    "plt.xlabel(\"Customer MSISDN Number\")\n",
    "plt.ylabel(\"Total Traffic(DL+UL) \")\n",
    "plt.title('Top 10 customers by traffic',fontsize=18)"
   ]
  },
  {
   "cell_type": "code",
   "execution_count": 293,
   "id": "3369ead7",
   "metadata": {},
   "outputs": [
    {
     "data": {
      "text/plain": [
       "Index(['bearer_id', 'start', 'start_ms', 'end', 'end_ms', 'dur._(ms)', 'imsi',\n",
       "       'msisdn/number', 'imei', 'last_location_name', 'avg_rtt_dl_(ms)',\n",
       "       'avg_rtt_ul_(ms)', 'avg_bearer_tp_dl_(kbps)', 'avg_bearer_tp_ul_(kbps)',\n",
       "       'tcp_dl_retrans._vol_(bytes)', 'tcp_ul_retrans._vol_(bytes)',\n",
       "       'dl_tp_<_50_kbps_(%)', '50_kbps_<_dl_tp_<_250_kbps_(%)',\n",
       "       '250_kbps_<_dl_tp_<_1_mbps_(%)', 'dl_tp_>_1_mbps_(%)',\n",
       "       'ul_tp_<_10_kbps_(%)', '10_kbps_<_ul_tp_<_50_kbps_(%)',\n",
       "       '50_kbps_<_ul_tp_<_300_kbps_(%)', 'ul_tp_>_300_kbps_(%)',\n",
       "       'http_dl_(bytes)', 'http_ul_(bytes)', 'activity_duration_dl_(ms)',\n",
       "       'activity_duration_ul_(ms)', 'dur._(ms).1', 'handset_manufacturer',\n",
       "       'handset_type', 'nb_of_sec_with_125000b_<_vol_dl',\n",
       "       'nb_of_sec_with_1250b_<_vol_ul_<_6250b',\n",
       "       'nb_of_sec_with_31250b_<_vol_dl_<_125000b',\n",
       "       'nb_of_sec_with_37500b_<_vol_ul',\n",
       "       'nb_of_sec_with_6250b_<_vol_dl_<_31250b',\n",
       "       'nb_of_sec_with_6250b_<_vol_ul_<_37500b',\n",
       "       'nb_of_sec_with_vol_dl_<_6250b', 'nb_of_sec_with_vol_ul_<_1250b',\n",
       "       'social_media_dl_(bytes)', 'social_media_ul_(bytes)',\n",
       "       'google_dl_(bytes)', 'google_ul_(bytes)', 'email_dl_(bytes)',\n",
       "       'email_ul_(bytes)', 'youtube_dl_(bytes)', 'youtube_ul_(bytes)',\n",
       "       'netflix_dl_(bytes)', 'netflix_ul_(bytes)', 'gaming_dl_(bytes)',\n",
       "       'gaming_ul_(bytes)', 'other_dl_(bytes)', 'other_ul_(bytes)',\n",
       "       'total_ul_(bytes)', 'total_dl_(bytes)', 'social_media', 'google',\n",
       "       'email', 'youtube', 'netflix', 'gaming', 'other', 'total_data'],\n",
       "      dtype='object')"
      ]
     },
     "execution_count": 293,
     "metadata": {},
     "output_type": "execute_result"
    }
   ],
   "source": [
    "df.columns"
   ]
  },
  {
   "cell_type": "code",
   "execution_count": 294,
   "id": "b43820ae",
   "metadata": {},
   "outputs": [],
   "source": [
    "df[\"total_social_media_session\"] = df[\"social_media_dl_(bytes)\"] + df['social_media_ul_(bytes)']\n",
    "df[\"total_google_session\"] = df[\"google_dl_(bytes)\"] + df[\"google_ul_(bytes)\"]\n",
    "df['total_email_session'] = df[\"email_dl_(bytes)\"] + df[\"email_ul_(bytes)\"]\n",
    "df['total_youtube_session'] = df[\"youtube_dl_(bytes)\"] + df[\"youtube_ul_(bytes)\"]\n",
    "df['total_netflix_session'] = df[\"netflix_dl_(bytes)\"] + df[\"netflix_ul_(bytes)\"]\n",
    "df[\"total_gaming_session\"] = df[\"gaming_dl_(bytes)\"] + df[\"gaming_ul_(bytes)\"]\n",
    "df['total_other_session'] = df[\"other_dl_(bytes)\"]+df[\"other_ul_(bytes)\"]\n",
    "df['total_data'] = df['total_dl_(bytes)'] + df['total_ul_(bytes)']"
   ]
  },
  {
   "cell_type": "markdown",
   "id": "e5c1da2d",
   "metadata": {},
   "source": [
    "`Aggregate the number of session durations, total session duration, & total data for each user`"
   ]
  },
  {
   "cell_type": "code",
   "execution_count": 295,
   "id": "0b9a03b1",
   "metadata": {},
   "outputs": [],
   "source": [
    "df = df.rename( columns={'bearer_id': 'sessions'})"
   ]
  },
  {
   "cell_type": "code",
   "execution_count": 296,
   "id": "7021550b",
   "metadata": {},
   "outputs": [],
   "source": [
    "engagement = df.groupby('msisdn/number').agg({'sessions': 'count', 'dur._(ms)': 'sum', 'total_data': 'sum'})"
   ]
  },
  {
   "cell_type": "code",
   "execution_count": 314,
   "id": "96408a58",
   "metadata": {},
   "outputs": [
    {
     "data": {
      "text/html": [
       "<div>\n",
       "<style scoped>\n",
       "    .dataframe tbody tr th:only-of-type {\n",
       "        vertical-align: middle;\n",
       "    }\n",
       "\n",
       "    .dataframe tbody tr th {\n",
       "        vertical-align: top;\n",
       "    }\n",
       "\n",
       "    .dataframe thead th {\n",
       "        text-align: right;\n",
       "    }\n",
       "</style>\n",
       "<table border=\"1\" class=\"dataframe\">\n",
       "  <thead>\n",
       "    <tr style=\"text-align: right;\">\n",
       "      <th></th>\n",
       "      <th>sessions</th>\n",
       "      <th>dur._(ms)</th>\n",
       "      <th>total_data</th>\n",
       "    </tr>\n",
       "    <tr>\n",
       "      <th>msisdn/number</th>\n",
       "      <th></th>\n",
       "      <th></th>\n",
       "      <th></th>\n",
       "    </tr>\n",
       "  </thead>\n",
       "  <tbody>\n",
       "    <tr>\n",
       "      <th>3.360100e+10</th>\n",
       "      <td>1</td>\n",
       "      <td>116720.0</td>\n",
       "      <td>8.786906e+08</td>\n",
       "    </tr>\n",
       "    <tr>\n",
       "      <th>3.360100e+10</th>\n",
       "      <td>1</td>\n",
       "      <td>181230.0</td>\n",
       "      <td>1.568596e+08</td>\n",
       "    </tr>\n",
       "    <tr>\n",
       "      <th>3.360100e+10</th>\n",
       "      <td>1</td>\n",
       "      <td>134969.0</td>\n",
       "      <td>5.959665e+08</td>\n",
       "    </tr>\n",
       "    <tr>\n",
       "      <th>3.360101e+10</th>\n",
       "      <td>1</td>\n",
       "      <td>49878.0</td>\n",
       "      <td>4.223207e+08</td>\n",
       "    </tr>\n",
       "    <tr>\n",
       "      <th>3.360101e+10</th>\n",
       "      <td>2</td>\n",
       "      <td>37104.0</td>\n",
       "      <td>1.457411e+09</td>\n",
       "    </tr>\n",
       "    <tr>\n",
       "      <th>...</th>\n",
       "      <td>...</td>\n",
       "      <td>...</td>\n",
       "      <td>...</td>\n",
       "    </tr>\n",
       "    <tr>\n",
       "      <th>3.379000e+10</th>\n",
       "      <td>1</td>\n",
       "      <td>8810.0</td>\n",
       "      <td>7.146416e+08</td>\n",
       "    </tr>\n",
       "    <tr>\n",
       "      <th>3.379000e+10</th>\n",
       "      <td>1</td>\n",
       "      <td>140988.0</td>\n",
       "      <td>4.803073e+08</td>\n",
       "    </tr>\n",
       "    <tr>\n",
       "      <th>3.197021e+12</th>\n",
       "      <td>1</td>\n",
       "      <td>877385.0</td>\n",
       "      <td>2.321240e+08</td>\n",
       "    </tr>\n",
       "    <tr>\n",
       "      <th>3.370000e+14</th>\n",
       "      <td>1</td>\n",
       "      <td>253030.0</td>\n",
       "      <td>5.962878e+08</td>\n",
       "    </tr>\n",
       "    <tr>\n",
       "      <th>8.823971e+14</th>\n",
       "      <td>1</td>\n",
       "      <td>869844.0</td>\n",
       "      <td>1.391536e+08</td>\n",
       "    </tr>\n",
       "  </tbody>\n",
       "</table>\n",
       "<p>106855 rows × 3 columns</p>\n",
       "</div>"
      ],
      "text/plain": [
       "               sessions  dur._(ms)    total_data\n",
       "msisdn/number                                   \n",
       "3.360100e+10          1   116720.0  8.786906e+08\n",
       "3.360100e+10          1   181230.0  1.568596e+08\n",
       "3.360100e+10          1   134969.0  5.959665e+08\n",
       "3.360101e+10          1    49878.0  4.223207e+08\n",
       "3.360101e+10          2    37104.0  1.457411e+09\n",
       "...                 ...        ...           ...\n",
       "3.379000e+10          1     8810.0  7.146416e+08\n",
       "3.379000e+10          1   140988.0  4.803073e+08\n",
       "3.197021e+12          1   877385.0  2.321240e+08\n",
       "3.370000e+14          1   253030.0  5.962878e+08\n",
       "8.823971e+14          1   869844.0  1.391536e+08\n",
       "\n",
       "[106855 rows x 3 columns]"
      ]
     },
     "execution_count": 314,
     "metadata": {},
     "output_type": "execute_result"
    }
   ],
   "source": [
    "engagement"
   ]
  },
  {
   "cell_type": "code",
   "execution_count": null,
   "id": "0078241c",
   "metadata": {},
   "outputs": [],
   "source": []
  },
  {
   "cell_type": "code",
   "execution_count": 297,
   "id": "b39f8958",
   "metadata": {},
   "outputs": [
    {
     "data": {
      "text/html": [
       "<div>\n",
       "<style scoped>\n",
       "    .dataframe tbody tr th:only-of-type {\n",
       "        vertical-align: middle;\n",
       "    }\n",
       "\n",
       "    .dataframe tbody tr th {\n",
       "        vertical-align: top;\n",
       "    }\n",
       "\n",
       "    .dataframe thead th {\n",
       "        text-align: right;\n",
       "    }\n",
       "</style>\n",
       "<table border=\"1\" class=\"dataframe\">\n",
       "  <thead>\n",
       "    <tr style=\"text-align: right;\">\n",
       "      <th></th>\n",
       "      <th>sessions</th>\n",
       "      <th>dur._(ms)</th>\n",
       "      <th>total_data</th>\n",
       "    </tr>\n",
       "    <tr>\n",
       "      <th>msisdn/number</th>\n",
       "      <th></th>\n",
       "      <th></th>\n",
       "      <th></th>\n",
       "    </tr>\n",
       "  </thead>\n",
       "  <tbody>\n",
       "    <tr>\n",
       "      <th>3.360100e+10</th>\n",
       "      <td>1</td>\n",
       "      <td>116720.0</td>\n",
       "      <td>8.786906e+08</td>\n",
       "    </tr>\n",
       "    <tr>\n",
       "      <th>3.360100e+10</th>\n",
       "      <td>1</td>\n",
       "      <td>181230.0</td>\n",
       "      <td>1.568596e+08</td>\n",
       "    </tr>\n",
       "    <tr>\n",
       "      <th>3.360100e+10</th>\n",
       "      <td>1</td>\n",
       "      <td>134969.0</td>\n",
       "      <td>5.959665e+08</td>\n",
       "    </tr>\n",
       "    <tr>\n",
       "      <th>3.360101e+10</th>\n",
       "      <td>1</td>\n",
       "      <td>49878.0</td>\n",
       "      <td>4.223207e+08</td>\n",
       "    </tr>\n",
       "    <tr>\n",
       "      <th>3.360101e+10</th>\n",
       "      <td>2</td>\n",
       "      <td>37104.0</td>\n",
       "      <td>1.457411e+09</td>\n",
       "    </tr>\n",
       "  </tbody>\n",
       "</table>\n",
       "</div>"
      ],
      "text/plain": [
       "               sessions  dur._(ms)    total_data\n",
       "msisdn/number                                   \n",
       "3.360100e+10          1   116720.0  8.786906e+08\n",
       "3.360100e+10          1   181230.0  1.568596e+08\n",
       "3.360100e+10          1   134969.0  5.959665e+08\n",
       "3.360101e+10          1    49878.0  4.223207e+08\n",
       "3.360101e+10          2    37104.0  1.457411e+09"
      ]
     },
     "execution_count": 297,
     "metadata": {},
     "output_type": "execute_result"
    }
   ],
   "source": [
    "engagement.head()"
   ]
  },
  {
   "cell_type": "code",
   "execution_count": 298,
   "id": "245487c2",
   "metadata": {},
   "outputs": [],
   "source": [
    "engagement.drop(33663706799.0, axis=0, inplace=True)"
   ]
  },
  {
   "cell_type": "markdown",
   "id": "e63fe1b1",
   "metadata": {},
   "source": [
    "<b>`2.1 - Users data analysis`</b>"
   ]
  },
  {
   "cell_type": "markdown",
   "id": "a07daf9a",
   "metadata": {},
   "source": [
    "`Normalize each engagement metric and run a k-means (k=3) to classify customers in three groups of engagement.`"
   ]
  },
  {
   "cell_type": "code",
   "execution_count": 221,
   "id": "26290491",
   "metadata": {},
   "outputs": [],
   "source": [
    "def normalizer(df, columns):\n",
    "    norm = Normalizer()\n",
    "    # normalize the exponential data with boxcox\n",
    "    normalized_data = norm.fit_transform(df)\n",
    "\n",
    "    # plot both together to compare\n",
    "    fig, ax=plt.subplots(1,2, figsize=(10, 6))\n",
    "    sns.histplot(df, ax=ax[0])\n",
    "    ax[0].set_title(\"Original Data\")\n",
    "    sns.histplot(normalized_data[0], ax=ax[1])\n",
    "    ax[1].set_title(\"Normalized data\")\n",
    "    return pd.DataFrame(norm.fit_transform(df), columns=columns)"
   ]
  },
  {
   "cell_type": "code",
   "execution_count": 226,
   "id": "e5a49dc9",
   "metadata": {},
   "outputs": [
    {
     "data": {
      "image/png": "[encoded data removed]",
      "text/plain": [
       "<Figure size 720x432 with 2 Axes>"
      ]
     },
     "metadata": {
      "needs_background": "light"
     },
     "output_type": "display_data"
    }
   ],
   "source": [
    "normalized_user_engagement = normalizer(engagement, ['sessions', 'dur._(ms)', 'total_data'] )"
   ]
  },
  {
   "cell_type": "code",
   "execution_count": 227,
   "id": "a1bac91b",
   "metadata": {},
   "outputs": [
    {
     "data": {
      "text/html": [
       "<div>\n",
       "<style scoped>\n",
       "    .dataframe tbody tr th:only-of-type {\n",
       "        vertical-align: middle;\n",
       "    }\n",
       "\n",
       "    .dataframe tbody tr th {\n",
       "        vertical-align: top;\n",
       "    }\n",
       "\n",
       "    .dataframe thead th {\n",
       "        text-align: right;\n",
       "    }\n",
       "</style>\n",
       "<table border=\"1\" class=\"dataframe\">\n",
       "  <thead>\n",
       "    <tr style=\"text-align: right;\">\n",
       "      <th></th>\n",
       "      <th>sessions</th>\n",
       "      <th>dur._(ms)</th>\n",
       "      <th>total_data</th>\n",
       "    </tr>\n",
       "  </thead>\n",
       "  <tbody>\n",
       "    <tr>\n",
       "      <th>0</th>\n",
       "      <td>1.138057e-09</td>\n",
       "      <td>0.000133</td>\n",
       "      <td>1.000000</td>\n",
       "    </tr>\n",
       "    <tr>\n",
       "      <th>1</th>\n",
       "      <td>6.375122e-09</td>\n",
       "      <td>0.001155</td>\n",
       "      <td>0.999999</td>\n",
       "    </tr>\n",
       "    <tr>\n",
       "      <th>2</th>\n",
       "      <td>1.677947e-09</td>\n",
       "      <td>0.000226</td>\n",
       "      <td>1.000000</td>\n",
       "    </tr>\n",
       "    <tr>\n",
       "      <th>3</th>\n",
       "      <td>2.367869e-09</td>\n",
       "      <td>0.000118</td>\n",
       "      <td>1.000000</td>\n",
       "    </tr>\n",
       "    <tr>\n",
       "      <th>4</th>\n",
       "      <td>1.372297e-09</td>\n",
       "      <td>0.000025</td>\n",
       "      <td>1.000000</td>\n",
       "    </tr>\n",
       "  </tbody>\n",
       "</table>\n",
       "</div>"
      ],
      "text/plain": [
       "       sessions  dur._(ms)  total_data\n",
       "0  1.138057e-09   0.000133    1.000000\n",
       "1  6.375122e-09   0.001155    0.999999\n",
       "2  1.677947e-09   0.000226    1.000000\n",
       "3  2.367869e-09   0.000118    1.000000\n",
       "4  1.372297e-09   0.000025    1.000000"
      ]
     },
     "execution_count": 227,
     "metadata": {},
     "output_type": "execute_result"
    }
   ],
   "source": [
    "normalized_user_engagement.head()"
   ]
  },
  {
   "cell_type": "code",
   "execution_count": 228,
   "id": "a7d4e13a",
   "metadata": {},
   "outputs": [
    {
     "data": {
      "text/html": [
       "<div>\n",
       "<style scoped>\n",
       "    .dataframe tbody tr th:only-of-type {\n",
       "        vertical-align: middle;\n",
       "    }\n",
       "\n",
       "    .dataframe tbody tr th {\n",
       "        vertical-align: top;\n",
       "    }\n",
       "\n",
       "    .dataframe thead th {\n",
       "        text-align: right;\n",
       "    }\n",
       "</style>\n",
       "<table border=\"1\" class=\"dataframe\">\n",
       "  <thead>\n",
       "    <tr style=\"text-align: right;\">\n",
       "      <th></th>\n",
       "      <th>sessions</th>\n",
       "      <th>dur._(ms)</th>\n",
       "      <th>total_data</th>\n",
       "    </tr>\n",
       "  </thead>\n",
       "  <tbody>\n",
       "    <tr>\n",
       "      <th>count</th>\n",
       "      <td>1.068550e+05</td>\n",
       "      <td>106855.000000</td>\n",
       "      <td>1.068550e+05</td>\n",
       "    </tr>\n",
       "    <tr>\n",
       "      <th>mean</th>\n",
       "      <td>2.827708e-09</td>\n",
       "      <td>0.000290</td>\n",
       "      <td>9.999999e-01</td>\n",
       "    </tr>\n",
       "    <tr>\n",
       "      <th>std</th>\n",
       "      <td>2.274851e-09</td>\n",
       "      <td>0.000352</td>\n",
       "      <td>5.873167e-07</td>\n",
       "    </tr>\n",
       "    <tr>\n",
       "      <th>min</th>\n",
       "      <td>1.051789e-09</td>\n",
       "      <td>0.000008</td>\n",
       "      <td>9.999429e-01</td>\n",
       "    </tr>\n",
       "    <tr>\n",
       "      <th>25%</th>\n",
       "      <td>1.482800e-09</td>\n",
       "      <td>0.000110</td>\n",
       "      <td>9.999999e-01</td>\n",
       "    </tr>\n",
       "    <tr>\n",
       "      <th>50%</th>\n",
       "      <td>2.009635e-09</td>\n",
       "      <td>0.000190</td>\n",
       "      <td>1.000000e+00</td>\n",
       "    </tr>\n",
       "    <tr>\n",
       "      <th>75%</th>\n",
       "      <td>3.151055e-09</td>\n",
       "      <td>0.000334</td>\n",
       "      <td>1.000000e+00</td>\n",
       "    </tr>\n",
       "    <tr>\n",
       "      <th>max</th>\n",
       "      <td>3.007606e-08</td>\n",
       "      <td>0.010688</td>\n",
       "      <td>1.000000e+00</td>\n",
       "    </tr>\n",
       "  </tbody>\n",
       "</table>\n",
       "</div>"
      ],
      "text/plain": [
       "           sessions      dur._(ms)    total_data\n",
       "count  1.068550e+05  106855.000000  1.068550e+05\n",
       "mean   2.827708e-09       0.000290  9.999999e-01\n",
       "std    2.274851e-09       0.000352  5.873167e-07\n",
       "min    1.051789e-09       0.000008  9.999429e-01\n",
       "25%    1.482800e-09       0.000110  9.999999e-01\n",
       "50%    2.009635e-09       0.000190  1.000000e+00\n",
       "75%    3.151055e-09       0.000334  1.000000e+00\n",
       "max    3.007606e-08       0.010688  1.000000e+00"
      ]
     },
     "execution_count": 228,
     "metadata": {},
     "output_type": "execute_result"
    }
   ],
   "source": [
    "normalized_user_engagement.describe()"
   ]
  },
  {
   "cell_type": "code",
   "execution_count": 229,
   "id": "97eab290",
   "metadata": {},
   "outputs": [
    {
     "data": {
      "image/png": "[encoded data removed]",
      "text/plain": [
       "<Figure size 1080x432 with 2 Axes>"
      ]
     },
     "metadata": {
      "needs_background": "light"
     },
     "output_type": "display_data"
    }
   ],
   "source": [
    "plt.figure(figsize=(15,6))\n",
    "plt.subplot(1,2,1)\n",
    "sns.violinplot(y=user_engagement[\"dur._(ms)\"])\n",
    "# sns.boxplot(y=user_engagement[\"dur._(ms)\"], color=\"red\")\n",
    "plt.subplot(1,2,2)\n",
    "sns.violinplot(y=user_engagement[\"sessions\"])\n",
    "# sns.boxplot(y=user_engagement[\"total_data\"])\n",
    "plt.show()"
   ]
  },
  {
   "cell_type": "markdown",
   "id": "7520bfab",
   "metadata": {},
   "source": [
    "<b>`K-means clustering (K=3)`</b>"
   ]
  },
  {
   "cell_type": "code",
   "execution_count": 231,
   "id": "ea90f266",
   "metadata": {},
   "outputs": [],
   "source": [
    "normalized = normalized_user_engagement.copy()"
   ]
  },
  {
   "cell_type": "code",
   "execution_count": 236,
   "id": "3c376b6b",
   "metadata": {},
   "outputs": [],
   "source": [
    "kmeans = KMeans(init=\"random\",n_clusters=3,n_init=10,max_iter=300,random_state=42)\n",
    "label = kmeans.fit_predict(normalized)\n",
    "centroids = kmeans.cluster_centers_"
   ]
  },
  {
   "cell_type": "code",
   "execution_count": 237,
   "id": "016c1abf",
   "metadata": {},
   "outputs": [
    {
     "data": {
      "text/plain": [
       "array([[2.23950244e-09, 1.78197219e-04, 9.99999979e-01],\n",
       "       [9.83257001e-09, 2.09334508e-03, 9.99997390e-01],\n",
       "       [5.38445044e-09, 7.23172942e-04, 9.99999711e-01]])"
      ]
     },
     "execution_count": 237,
     "metadata": {},
     "output_type": "execute_result"
    }
   ],
   "source": [
    "centroids_eng = kmeans.cluster_centers_\n",
    "centroids_eng"
   ]
  },
  {
   "cell_type": "code",
   "execution_count": 272,
   "id": "b4b0ec44",
   "metadata": {},
   "outputs": [
    {
     "data": {
      "image/png": "[encoded data removed]",
      "text/plain": [
       "<Figure size 720x360 with 1 Axes>"
      ]
     },
     "metadata": {
      "needs_background": "light"
     },
     "output_type": "display_data"
    }
   ],
   "source": [
    "lables_unique = np.unique(label)\n",
    "#plotting the results:\n",
    "plt.figure(figsize=(10,5))\n",
    "plt.title('User K-Means Classification with 3 clusters')\n",
    "for i in lables_unique:\n",
    "    plt.scatter(normalized[label == i].iloc[:,0] , normalized[label == i].iloc[:,1], marker='o', label = i)\n",
    "plt.scatter(centroids[:,0] , centroids[:,1],centroids[:,2], marker='x', color = 'black')\n",
    "plt.legend()\n",
    "plt.show()"
   ]
  },
  {
   "cell_type": "code",
   "execution_count": 238,
   "id": "6ecd81bd",
   "metadata": {},
   "outputs": [],
   "source": [
    "# We create a new data frame with the original features and add a new column with the assigned clusters for each point.\n",
    "df_segm_kmeans = normalized.copy()\n",
    "df_segm_kmeans['Segment_K-means'] = kmeans.labels_"
   ]
  },
  {
   "cell_type": "markdown",
   "id": "70cf7be2",
   "metadata": {},
   "source": [
    "<b>`Compute the minimum, maximum, average & total non- normalized metrics for each cluster. Interpret your results visually with accompanying text`</b>"
   ]
  },
  {
   "cell_type": "code",
   "execution_count": 240,
   "id": "7b5e80ec",
   "metadata": {},
   "outputs": [
    {
     "data": {
      "text/html": [
       "<div>\n",
       "<style scoped>\n",
       "    .dataframe tbody tr th:only-of-type {\n",
       "        vertical-align: middle;\n",
       "    }\n",
       "\n",
       "    .dataframe tbody tr th {\n",
       "        vertical-align: top;\n",
       "    }\n",
       "\n",
       "    .dataframe thead tr th {\n",
       "        text-align: left;\n",
       "    }\n",
       "\n",
       "    .dataframe thead tr:last-of-type th {\n",
       "        text-align: right;\n",
       "    }\n",
       "</style>\n",
       "<table border=\"1\" class=\"dataframe\">\n",
       "  <thead>\n",
       "    <tr>\n",
       "      <th></th>\n",
       "      <th colspan=\"4\" halign=\"left\">sessions</th>\n",
       "      <th colspan=\"4\" halign=\"left\">dur._(ms)</th>\n",
       "      <th colspan=\"4\" halign=\"left\">total_data</th>\n",
       "    </tr>\n",
       "    <tr>\n",
       "      <th></th>\n",
       "      <th>min</th>\n",
       "      <th>max</th>\n",
       "      <th>mean</th>\n",
       "      <th>sum</th>\n",
       "      <th>min</th>\n",
       "      <th>max</th>\n",
       "      <th>mean</th>\n",
       "      <th>sum</th>\n",
       "      <th>min</th>\n",
       "      <th>max</th>\n",
       "      <th>mean</th>\n",
       "      <th>sum</th>\n",
       "    </tr>\n",
       "    <tr>\n",
       "      <th>Segment_K-means</th>\n",
       "      <th></th>\n",
       "      <th></th>\n",
       "      <th></th>\n",
       "      <th></th>\n",
       "      <th></th>\n",
       "      <th></th>\n",
       "      <th></th>\n",
       "      <th></th>\n",
       "      <th></th>\n",
       "      <th></th>\n",
       "      <th></th>\n",
       "      <th></th>\n",
       "    </tr>\n",
       "  </thead>\n",
       "  <tbody>\n",
       "    <tr>\n",
       "      <th>0</th>\n",
       "      <td>1.051789e-09</td>\n",
       "      <td>2.171671e-08</td>\n",
       "      <td>2.239813e-09</td>\n",
       "      <td>0.000200</td>\n",
       "      <td>0.000008</td>\n",
       "      <td>0.000451</td>\n",
       "      <td>0.000178</td>\n",
       "      <td>15.940291</td>\n",
       "      <td>1.000000</td>\n",
       "      <td>1.000000</td>\n",
       "      <td>1.000000</td>\n",
       "      <td>89420.998082</td>\n",
       "    </tr>\n",
       "    <tr>\n",
       "      <th>1</th>\n",
       "      <td>1.124412e-09</td>\n",
       "      <td>2.978296e-08</td>\n",
       "      <td>9.836654e-09</td>\n",
       "      <td>0.000018</td>\n",
       "      <td>0.001408</td>\n",
       "      <td>0.010688</td>\n",
       "      <td>0.002095</td>\n",
       "      <td>3.737957</td>\n",
       "      <td>0.999943</td>\n",
       "      <td>0.999999</td>\n",
       "      <td>0.999997</td>\n",
       "      <td>1783.995336</td>\n",
       "    </tr>\n",
       "    <tr>\n",
       "      <th>2</th>\n",
       "      <td>1.069190e-09</td>\n",
       "      <td>3.007606e-08</td>\n",
       "      <td>5.387854e-09</td>\n",
       "      <td>0.000084</td>\n",
       "      <td>0.000451</td>\n",
       "      <td>0.001408</td>\n",
       "      <td>0.000724</td>\n",
       "      <td>11.326805</td>\n",
       "      <td>0.999999</td>\n",
       "      <td>1.000000</td>\n",
       "      <td>1.000000</td>\n",
       "      <td>15649.995464</td>\n",
       "    </tr>\n",
       "  </tbody>\n",
       "</table>\n",
       "</div>"
      ],
      "text/plain": [
       "                     sessions                                       dur._(ms)  \\\n",
       "                          min           max          mean       sum       min   \n",
       "Segment_K-means                                                                 \n",
       "0                1.051789e-09  2.171671e-08  2.239813e-09  0.000200  0.000008   \n",
       "1                1.124412e-09  2.978296e-08  9.836654e-09  0.000018  0.001408   \n",
       "2                1.069190e-09  3.007606e-08  5.387854e-09  0.000084  0.000451   \n",
       "\n",
       "                                               total_data                      \\\n",
       "                      max      mean        sum        min       max      mean   \n",
       "Segment_K-means                                                                 \n",
       "0                0.000451  0.000178  15.940291   1.000000  1.000000  1.000000   \n",
       "1                0.010688  0.002095   3.737957   0.999943  0.999999  0.999997   \n",
       "2                0.001408  0.000724  11.326805   0.999999  1.000000  1.000000   \n",
       "\n",
       "                               \n",
       "                          sum  \n",
       "Segment_K-means                \n",
       "0                89420.998082  \n",
       "1                 1783.995336  \n",
       "2                15649.995464  "
      ]
     },
     "execution_count": 240,
     "metadata": {},
     "output_type": "execute_result"
    }
   ],
   "source": [
    "# Calculate mean values for the clusters\n",
    "df_segm_analysis = df_segm_kmeans.groupby(['Segment_K-means']).agg(['min', 'max', 'mean', 'sum'])\n",
    "df_segm_analysis"
   ]
  },
  {
   "cell_type": "markdown",
   "id": "cc45c822",
   "metadata": {},
   "source": [
    "`Mean for each cluster`"
   ]
  },
  {
   "cell_type": "code",
   "execution_count": 242,
   "id": "88789a2f",
   "metadata": {},
   "outputs": [
    {
     "data": {
      "text/html": [
       "<div>\n",
       "<style scoped>\n",
       "    .dataframe tbody tr th:only-of-type {\n",
       "        vertical-align: middle;\n",
       "    }\n",
       "\n",
       "    .dataframe tbody tr th {\n",
       "        vertical-align: top;\n",
       "    }\n",
       "\n",
       "    .dataframe thead th {\n",
       "        text-align: right;\n",
       "    }\n",
       "</style>\n",
       "<table border=\"1\" class=\"dataframe\">\n",
       "  <thead>\n",
       "    <tr style=\"text-align: right;\">\n",
       "      <th></th>\n",
       "      <th>sessions</th>\n",
       "      <th>dur._(ms)</th>\n",
       "      <th>total_data</th>\n",
       "    </tr>\n",
       "    <tr>\n",
       "      <th>Segment_K-means</th>\n",
       "      <th></th>\n",
       "      <th></th>\n",
       "      <th></th>\n",
       "    </tr>\n",
       "  </thead>\n",
       "  <tbody>\n",
       "    <tr>\n",
       "      <th>0</th>\n",
       "      <td>2.239813e-09</td>\n",
       "      <td>0.000178</td>\n",
       "      <td>1.000000</td>\n",
       "    </tr>\n",
       "    <tr>\n",
       "      <th>1</th>\n",
       "      <td>9.836654e-09</td>\n",
       "      <td>0.002095</td>\n",
       "      <td>0.999997</td>\n",
       "    </tr>\n",
       "    <tr>\n",
       "      <th>2</th>\n",
       "      <td>5.387854e-09</td>\n",
       "      <td>0.000724</td>\n",
       "      <td>1.000000</td>\n",
       "    </tr>\n",
       "  </tbody>\n",
       "</table>\n",
       "</div>"
      ],
      "text/plain": [
       "                     sessions  dur._(ms)  total_data\n",
       "Segment_K-means                                     \n",
       "0                2.239813e-09   0.000178    1.000000\n",
       "1                9.836654e-09   0.002095    0.999997\n",
       "2                5.387854e-09   0.000724    1.000000"
      ]
     },
     "execution_count": 242,
     "metadata": {},
     "output_type": "execute_result"
    }
   ],
   "source": [
    "# Calculate mean values for the clusters\n",
    "df_segm_analysis = df_segm_kmeans.groupby(['Segment_K-means']).mean()\n",
    "df_segm_analysis"
   ]
  },
  {
   "cell_type": "markdown",
   "id": "6970def8",
   "metadata": {},
   "source": [
    "`Minimum for each cluster`"
   ]
  },
  {
   "cell_type": "code",
   "execution_count": 243,
   "id": "7a101809",
   "metadata": {},
   "outputs": [
    {
     "data": {
      "text/html": [
       "<div>\n",
       "<style scoped>\n",
       "    .dataframe tbody tr th:only-of-type {\n",
       "        vertical-align: middle;\n",
       "    }\n",
       "\n",
       "    .dataframe tbody tr th {\n",
       "        vertical-align: top;\n",
       "    }\n",
       "\n",
       "    .dataframe thead th {\n",
       "        text-align: right;\n",
       "    }\n",
       "</style>\n",
       "<table border=\"1\" class=\"dataframe\">\n",
       "  <thead>\n",
       "    <tr style=\"text-align: right;\">\n",
       "      <th></th>\n",
       "      <th>sessions</th>\n",
       "      <th>dur._(ms)</th>\n",
       "      <th>total_data</th>\n",
       "    </tr>\n",
       "    <tr>\n",
       "      <th>Segment_K-means</th>\n",
       "      <th></th>\n",
       "      <th></th>\n",
       "      <th></th>\n",
       "    </tr>\n",
       "  </thead>\n",
       "  <tbody>\n",
       "    <tr>\n",
       "      <th>0</th>\n",
       "      <td>1.051789e-09</td>\n",
       "      <td>0.000008</td>\n",
       "      <td>1.000000</td>\n",
       "    </tr>\n",
       "    <tr>\n",
       "      <th>1</th>\n",
       "      <td>1.124412e-09</td>\n",
       "      <td>0.001408</td>\n",
       "      <td>0.999943</td>\n",
       "    </tr>\n",
       "    <tr>\n",
       "      <th>2</th>\n",
       "      <td>1.069190e-09</td>\n",
       "      <td>0.000451</td>\n",
       "      <td>0.999999</td>\n",
       "    </tr>\n",
       "  </tbody>\n",
       "</table>\n",
       "</div>"
      ],
      "text/plain": [
       "                     sessions  dur._(ms)  total_data\n",
       "Segment_K-means                                     \n",
       "0                1.051789e-09   0.000008    1.000000\n",
       "1                1.124412e-09   0.001408    0.999943\n",
       "2                1.069190e-09   0.000451    0.999999"
      ]
     },
     "execution_count": 243,
     "metadata": {},
     "output_type": "execute_result"
    }
   ],
   "source": [
    "# Calculate min values for the clusters\n",
    "df_segm_analysis = df_segm_kmeans.groupby(['Segment_K-means']).min()\n",
    "df_segm_analysis"
   ]
  },
  {
   "cell_type": "markdown",
   "id": "620f61da",
   "metadata": {},
   "source": [
    "`The least xDR Session occured in cluster 0 and 2, they also has the least amount of session duration.`"
   ]
  },
  {
   "cell_type": "markdown",
   "id": "ca15ef0a",
   "metadata": {},
   "source": [
    "<b>`Maximum for each cluster`</b>"
   ]
  },
  {
   "cell_type": "code",
   "execution_count": 247,
   "id": "ea06383b",
   "metadata": {},
   "outputs": [
    {
     "data": {
      "text/html": [
       "<div>\n",
       "<style scoped>\n",
       "    .dataframe tbody tr th:only-of-type {\n",
       "        vertical-align: middle;\n",
       "    }\n",
       "\n",
       "    .dataframe tbody tr th {\n",
       "        vertical-align: top;\n",
       "    }\n",
       "\n",
       "    .dataframe thead th {\n",
       "        text-align: right;\n",
       "    }\n",
       "</style>\n",
       "<table border=\"1\" class=\"dataframe\">\n",
       "  <thead>\n",
       "    <tr style=\"text-align: right;\">\n",
       "      <th></th>\n",
       "      <th>sessions</th>\n",
       "      <th>dur._(ms)</th>\n",
       "      <th>total_data</th>\n",
       "    </tr>\n",
       "    <tr>\n",
       "      <th>Segment_K-means</th>\n",
       "      <th></th>\n",
       "      <th></th>\n",
       "      <th></th>\n",
       "    </tr>\n",
       "  </thead>\n",
       "  <tbody>\n",
       "    <tr>\n",
       "      <th>0</th>\n",
       "      <td>2.171671e-08</td>\n",
       "      <td>0.000451</td>\n",
       "      <td>1.000000</td>\n",
       "    </tr>\n",
       "    <tr>\n",
       "      <th>1</th>\n",
       "      <td>2.978296e-08</td>\n",
       "      <td>0.010688</td>\n",
       "      <td>0.999999</td>\n",
       "    </tr>\n",
       "    <tr>\n",
       "      <th>2</th>\n",
       "      <td>3.007606e-08</td>\n",
       "      <td>0.001408</td>\n",
       "      <td>1.000000</td>\n",
       "    </tr>\n",
       "  </tbody>\n",
       "</table>\n",
       "</div>"
      ],
      "text/plain": [
       "                     sessions  dur._(ms)  total_data\n",
       "Segment_K-means                                     \n",
       "0                2.171671e-08   0.000451    1.000000\n",
       "1                2.978296e-08   0.010688    0.999999\n",
       "2                3.007606e-08   0.001408    1.000000"
      ]
     },
     "execution_count": 247,
     "metadata": {},
     "output_type": "execute_result"
    }
   ],
   "source": [
    "# Calculate max values for the clusters\n",
    "df_segm_analysis = df_segm_kmeans.groupby(['Segment_K-means']).max()\n",
    "df_segm_analysis"
   ]
  },
  {
   "cell_type": "markdown",
   "id": "0fa28473",
   "metadata": {},
   "source": [
    "<b>`Sum total for each cluster`</b>"
   ]
  },
  {
   "cell_type": "code",
   "execution_count": 248,
   "id": "68f121fe",
   "metadata": {},
   "outputs": [
    {
     "data": {
      "text/html": [
       "<div>\n",
       "<style scoped>\n",
       "    .dataframe tbody tr th:only-of-type {\n",
       "        vertical-align: middle;\n",
       "    }\n",
       "\n",
       "    .dataframe tbody tr th {\n",
       "        vertical-align: top;\n",
       "    }\n",
       "\n",
       "    .dataframe thead th {\n",
       "        text-align: right;\n",
       "    }\n",
       "</style>\n",
       "<table border=\"1\" class=\"dataframe\">\n",
       "  <thead>\n",
       "    <tr style=\"text-align: right;\">\n",
       "      <th></th>\n",
       "      <th>sessions</th>\n",
       "      <th>dur._(ms)</th>\n",
       "      <th>total_data</th>\n",
       "    </tr>\n",
       "    <tr>\n",
       "      <th>Segment_K-means</th>\n",
       "      <th></th>\n",
       "      <th></th>\n",
       "      <th></th>\n",
       "    </tr>\n",
       "  </thead>\n",
       "  <tbody>\n",
       "    <tr>\n",
       "      <th>0</th>\n",
       "      <td>0.000200</td>\n",
       "      <td>15.940291</td>\n",
       "      <td>89420.998082</td>\n",
       "    </tr>\n",
       "    <tr>\n",
       "      <th>1</th>\n",
       "      <td>0.000018</td>\n",
       "      <td>3.737957</td>\n",
       "      <td>1783.995336</td>\n",
       "    </tr>\n",
       "    <tr>\n",
       "      <th>2</th>\n",
       "      <td>0.000084</td>\n",
       "      <td>11.326805</td>\n",
       "      <td>15649.995464</td>\n",
       "    </tr>\n",
       "  </tbody>\n",
       "</table>\n",
       "</div>"
      ],
      "text/plain": [
       "                 sessions  dur._(ms)    total_data\n",
       "Segment_K-means                                   \n",
       "0                0.000200  15.940291  89420.998082\n",
       "1                0.000018   3.737957   1783.995336\n",
       "2                0.000084  11.326805  15649.995464"
      ]
     },
     "execution_count": 248,
     "metadata": {},
     "output_type": "execute_result"
    }
   ],
   "source": [
    "# Calculate sum values for the clusters\n",
    "df_segm_analysis = df_segm_kmeans.groupby(['Segment_K-means']).sum()\n",
    "df_segm_analysis"
   ]
  },
  {
   "cell_type": "code",
   "execution_count": 251,
   "id": "d4fa9fa2",
   "metadata": {},
   "outputs": [
    {
     "data": {
      "text/html": [
       "<div>\n",
       "<style scoped>\n",
       "    .dataframe tbody tr th:only-of-type {\n",
       "        vertical-align: middle;\n",
       "    }\n",
       "\n",
       "    .dataframe tbody tr th {\n",
       "        vertical-align: top;\n",
       "    }\n",
       "\n",
       "    .dataframe thead th {\n",
       "        text-align: right;\n",
       "    }\n",
       "</style>\n",
       "<table border=\"1\" class=\"dataframe\">\n",
       "  <thead>\n",
       "    <tr style=\"text-align: right;\">\n",
       "      <th></th>\n",
       "      <th>sessions</th>\n",
       "      <th>dur._(ms)</th>\n",
       "      <th>total_data</th>\n",
       "      <th>N Obs</th>\n",
       "      <th>Prop Obs</th>\n",
       "    </tr>\n",
       "    <tr>\n",
       "      <th>Segment_K-means</th>\n",
       "      <th></th>\n",
       "      <th></th>\n",
       "      <th></th>\n",
       "      <th></th>\n",
       "      <th></th>\n",
       "    </tr>\n",
       "  </thead>\n",
       "  <tbody>\n",
       "    <tr>\n",
       "      <th>0</th>\n",
       "      <td>0.000200</td>\n",
       "      <td>15.940291</td>\n",
       "      <td>89420.998082</td>\n",
       "      <td>89421</td>\n",
       "      <td>0.836844</td>\n",
       "    </tr>\n",
       "    <tr>\n",
       "      <th>1</th>\n",
       "      <td>0.000018</td>\n",
       "      <td>3.737957</td>\n",
       "      <td>1783.995336</td>\n",
       "      <td>1784</td>\n",
       "      <td>0.016696</td>\n",
       "    </tr>\n",
       "    <tr>\n",
       "      <th>2</th>\n",
       "      <td>0.000084</td>\n",
       "      <td>11.326805</td>\n",
       "      <td>15649.995464</td>\n",
       "      <td>15650</td>\n",
       "      <td>0.146460</td>\n",
       "    </tr>\n",
       "  </tbody>\n",
       "</table>\n",
       "</div>"
      ],
      "text/plain": [
       "                 sessions  dur._(ms)    total_data  N Obs  Prop Obs\n",
       "Segment_K-means                                                    \n",
       "0                0.000200  15.940291  89420.998082  89421  0.836844\n",
       "1                0.000018   3.737957   1783.995336   1784  0.016696\n",
       "2                0.000084  11.326805  15649.995464  15650  0.146460"
      ]
     },
     "execution_count": 251,
     "metadata": {},
     "output_type": "execute_result"
    }
   ],
   "source": [
    "# Compute the size and proportions of the three clusters\n",
    "df_segm_analysis['N Obs'] = df_segm_kmeans[['Segment_K-means', 'sessions']].groupby(['Segment_K-means']).count()\n",
    "df_segm_analysis['Prop Obs'] = df_segm_analysis['N Obs'] / df_segm_analysis['N Obs'].sum()\n",
    "df_segm_analysis"
   ]
  },
  {
   "cell_type": "markdown",
   "id": "7bc48cd1",
   "metadata": {},
   "source": [
    "<b>`Many of the customers are grouped either in cluster 0 and 2`</b>"
   ]
  },
  {
   "cell_type": "code",
   "execution_count": 252,
   "id": "18e4e56c",
   "metadata": {},
   "outputs": [
    {
     "data": {
      "text/html": [
       "<div>\n",
       "<style scoped>\n",
       "    .dataframe tbody tr th:only-of-type {\n",
       "        vertical-align: middle;\n",
       "    }\n",
       "\n",
       "    .dataframe tbody tr th {\n",
       "        vertical-align: top;\n",
       "    }\n",
       "\n",
       "    .dataframe thead th {\n",
       "        text-align: right;\n",
       "    }\n",
       "</style>\n",
       "<table border=\"1\" class=\"dataframe\">\n",
       "  <thead>\n",
       "    <tr style=\"text-align: right;\">\n",
       "      <th></th>\n",
       "      <th>sessions</th>\n",
       "      <th>dur._(ms)</th>\n",
       "      <th>total_data</th>\n",
       "      <th>N Obs</th>\n",
       "      <th>Prop Obs</th>\n",
       "    </tr>\n",
       "    <tr>\n",
       "      <th>Segment_K-means</th>\n",
       "      <th></th>\n",
       "      <th></th>\n",
       "      <th></th>\n",
       "      <th></th>\n",
       "      <th></th>\n",
       "    </tr>\n",
       "  </thead>\n",
       "  <tbody>\n",
       "    <tr>\n",
       "      <th>well-off</th>\n",
       "      <td>0.000200</td>\n",
       "      <td>15.940291</td>\n",
       "      <td>89420.998082</td>\n",
       "      <td>89421</td>\n",
       "      <td>0.836844</td>\n",
       "    </tr>\n",
       "    <tr>\n",
       "      <th>fewer-opportunities</th>\n",
       "      <td>0.000018</td>\n",
       "      <td>3.737957</td>\n",
       "      <td>1783.995336</td>\n",
       "      <td>1784</td>\n",
       "      <td>0.016696</td>\n",
       "    </tr>\n",
       "    <tr>\n",
       "      <th>standard</th>\n",
       "      <td>0.000084</td>\n",
       "      <td>11.326805</td>\n",
       "      <td>15649.995464</td>\n",
       "      <td>15650</td>\n",
       "      <td>0.146460</td>\n",
       "    </tr>\n",
       "  </tbody>\n",
       "</table>\n",
       "</div>"
      ],
      "text/plain": [
       "                     sessions  dur._(ms)    total_data  N Obs  Prop Obs\n",
       "Segment_K-means                                                        \n",
       "well-off             0.000200  15.940291  89420.998082  89421  0.836844\n",
       "fewer-opportunities  0.000018   3.737957   1783.995336   1784  0.016696\n",
       "standard             0.000084  11.326805  15649.995464  15650  0.146460"
      ]
     },
     "execution_count": 252,
     "metadata": {},
     "output_type": "execute_result"
    }
   ],
   "source": [
    "df_segm_analysis.rename({0:'well-off',\n",
    "                         1:'fewer-opportunities',\n",
    "                         2:'standard',\n",
    "                         })"
   ]
  },
  {
   "cell_type": "code",
   "execution_count": 257,
   "id": "ab5fbb2d",
   "metadata": {},
   "outputs": [],
   "source": [
    "eng = engagement.copy()"
   ]
  },
  {
   "cell_type": "code",
   "execution_count": 258,
   "id": "e8f5ee2f",
   "metadata": {},
   "outputs": [
    {
     "data": {
      "text/html": [
       "<div>\n",
       "<style scoped>\n",
       "    .dataframe tbody tr th:only-of-type {\n",
       "        vertical-align: middle;\n",
       "    }\n",
       "\n",
       "    .dataframe tbody tr th {\n",
       "        vertical-align: top;\n",
       "    }\n",
       "\n",
       "    .dataframe thead th {\n",
       "        text-align: right;\n",
       "    }\n",
       "</style>\n",
       "<table border=\"1\" class=\"dataframe\">\n",
       "  <thead>\n",
       "    <tr style=\"text-align: right;\">\n",
       "      <th></th>\n",
       "      <th>cluster</th>\n",
       "      <th>sessions</th>\n",
       "      <th>dur._(ms)</th>\n",
       "      <th>total_data</th>\n",
       "    </tr>\n",
       "    <tr>\n",
       "      <th>msisdn/number</th>\n",
       "      <th></th>\n",
       "      <th></th>\n",
       "      <th></th>\n",
       "      <th></th>\n",
       "    </tr>\n",
       "  </thead>\n",
       "  <tbody>\n",
       "    <tr>\n",
       "      <th>3.360100e+10</th>\n",
       "      <td>0</td>\n",
       "      <td>1</td>\n",
       "      <td>116720.0</td>\n",
       "      <td>8.786906e+08</td>\n",
       "    </tr>\n",
       "    <tr>\n",
       "      <th>3.360100e+10</th>\n",
       "      <td>2</td>\n",
       "      <td>1</td>\n",
       "      <td>181230.0</td>\n",
       "      <td>1.568596e+08</td>\n",
       "    </tr>\n",
       "    <tr>\n",
       "      <th>3.360100e+10</th>\n",
       "      <td>0</td>\n",
       "      <td>1</td>\n",
       "      <td>134969.0</td>\n",
       "      <td>5.959665e+08</td>\n",
       "    </tr>\n",
       "    <tr>\n",
       "      <th>3.360101e+10</th>\n",
       "      <td>0</td>\n",
       "      <td>1</td>\n",
       "      <td>49878.0</td>\n",
       "      <td>4.223207e+08</td>\n",
       "    </tr>\n",
       "    <tr>\n",
       "      <th>3.360101e+10</th>\n",
       "      <td>0</td>\n",
       "      <td>2</td>\n",
       "      <td>37104.0</td>\n",
       "      <td>1.457411e+09</td>\n",
       "    </tr>\n",
       "  </tbody>\n",
       "</table>\n",
       "</div>"
      ],
      "text/plain": [
       "               cluster  sessions  dur._(ms)    total_data\n",
       "msisdn/number                                            \n",
       "3.360100e+10         0         1   116720.0  8.786906e+08\n",
       "3.360100e+10         2         1   181230.0  1.568596e+08\n",
       "3.360100e+10         0         1   134969.0  5.959665e+08\n",
       "3.360101e+10         0         1    49878.0  4.223207e+08\n",
       "3.360101e+10         0         2    37104.0  1.457411e+09"
      ]
     },
     "execution_count": 258,
     "metadata": {},
     "output_type": "execute_result"
    }
   ],
   "source": [
    "eng.insert(0, 'cluster', kmeans.labels_)\n",
    "eng.head(5)"
   ]
  },
  {
   "cell_type": "code",
   "execution_count": 262,
   "id": "7570cc9b",
   "metadata": {},
   "outputs": [
    {
     "data": {
      "text/html": [
       "<div>\n",
       "<style scoped>\n",
       "    .dataframe tbody tr th:only-of-type {\n",
       "        vertical-align: middle;\n",
       "    }\n",
       "\n",
       "    .dataframe tbody tr th {\n",
       "        vertical-align: top;\n",
       "    }\n",
       "\n",
       "    .dataframe thead th {\n",
       "        text-align: right;\n",
       "    }\n",
       "</style>\n",
       "<table border=\"1\" class=\"dataframe\">\n",
       "  <thead>\n",
       "    <tr style=\"text-align: right;\">\n",
       "      <th></th>\n",
       "      <th>cluster</th>\n",
       "      <th>sessions</th>\n",
       "      <th>dur._(ms)</th>\n",
       "      <th>total_data</th>\n",
       "    </tr>\n",
       "  </thead>\n",
       "  <tbody>\n",
       "    <tr>\n",
       "      <th>count</th>\n",
       "      <td>89421.0</td>\n",
       "      <td>89421.000000</td>\n",
       "      <td>8.942100e+04</td>\n",
       "      <td>8.942100e+04</td>\n",
       "    </tr>\n",
       "    <tr>\n",
       "      <th>mean</th>\n",
       "      <td>0.0</td>\n",
       "      <td>1.416177</td>\n",
       "      <td>1.271017e+05</td>\n",
       "      <td>7.600791e+08</td>\n",
       "    </tr>\n",
       "    <tr>\n",
       "      <th>std</th>\n",
       "      <td>0.0</td>\n",
       "      <td>0.787618</td>\n",
       "      <td>1.116813e+05</td>\n",
       "      <td>4.652241e+08</td>\n",
       "    </tr>\n",
       "    <tr>\n",
       "      <th>min</th>\n",
       "      <td>0.0</td>\n",
       "      <td>1.000000</td>\n",
       "      <td>7.142000e+03</td>\n",
       "      <td>4.604748e+07</td>\n",
       "    </tr>\n",
       "    <tr>\n",
       "      <th>25%</th>\n",
       "      <td>0.0</td>\n",
       "      <td>1.000000</td>\n",
       "      <td>5.766700e+04</td>\n",
       "      <td>4.598530e+08</td>\n",
       "    </tr>\n",
       "    <tr>\n",
       "      <th>50%</th>\n",
       "      <td>0.0</td>\n",
       "      <td>1.000000</td>\n",
       "      <td>9.286700e+04</td>\n",
       "      <td>6.825232e+08</td>\n",
       "    </tr>\n",
       "    <tr>\n",
       "      <th>75%</th>\n",
       "      <td>0.0</td>\n",
       "      <td>2.000000</td>\n",
       "      <td>1.674660e+05</td>\n",
       "      <td>8.867387e+08</td>\n",
       "    </tr>\n",
       "    <tr>\n",
       "      <th>max</th>\n",
       "      <td>0.0</td>\n",
       "      <td>11.000000</td>\n",
       "      <td>2.927785e+06</td>\n",
       "      <td>6.872018e+09</td>\n",
       "    </tr>\n",
       "  </tbody>\n",
       "</table>\n",
       "</div>"
      ],
      "text/plain": [
       "       cluster      sessions     dur._(ms)    total_data\n",
       "count  89421.0  89421.000000  8.942100e+04  8.942100e+04\n",
       "mean       0.0      1.416177  1.271017e+05  7.600791e+08\n",
       "std        0.0      0.787618  1.116813e+05  4.652241e+08\n",
       "min        0.0      1.000000  7.142000e+03  4.604748e+07\n",
       "25%        0.0      1.000000  5.766700e+04  4.598530e+08\n",
       "50%        0.0      1.000000  9.286700e+04  6.825232e+08\n",
       "75%        0.0      2.000000  1.674660e+05  8.867387e+08\n",
       "max        0.0     11.000000  2.927785e+06  6.872018e+09"
      ]
     },
     "execution_count": 262,
     "metadata": {},
     "output_type": "execute_result"
    }
   ],
   "source": [
    "cluster1 = eng[eng[\"cluster\"]==0]\n",
    "cluster1.describe()"
   ]
  },
  {
   "cell_type": "code",
   "execution_count": 264,
   "id": "1e56ab32",
   "metadata": {},
   "outputs": [
    {
     "data": {
      "text/html": [
       "<div>\n",
       "<style scoped>\n",
       "    .dataframe tbody tr th:only-of-type {\n",
       "        vertical-align: middle;\n",
       "    }\n",
       "\n",
       "    .dataframe tbody tr th {\n",
       "        vertical-align: top;\n",
       "    }\n",
       "\n",
       "    .dataframe thead th {\n",
       "        text-align: right;\n",
       "    }\n",
       "</style>\n",
       "<table border=\"1\" class=\"dataframe\">\n",
       "  <thead>\n",
       "    <tr style=\"text-align: right;\">\n",
       "      <th></th>\n",
       "      <th>cluster</th>\n",
       "      <th>sessions</th>\n",
       "      <th>dur._(ms)</th>\n",
       "      <th>total_data</th>\n",
       "    </tr>\n",
       "  </thead>\n",
       "  <tbody>\n",
       "    <tr>\n",
       "      <th>count</th>\n",
       "      <td>1784.0</td>\n",
       "      <td>1784.000000</td>\n",
       "      <td>1.784000e+03</td>\n",
       "      <td>1.784000e+03</td>\n",
       "    </tr>\n",
       "    <tr>\n",
       "      <th>mean</th>\n",
       "      <td>1.0</td>\n",
       "      <td>1.093049</td>\n",
       "      <td>3.113612e+05</td>\n",
       "      <td>1.568294e+08</td>\n",
       "    </tr>\n",
       "    <tr>\n",
       "      <th>std</th>\n",
       "      <td>0.0</td>\n",
       "      <td>0.664184</td>\n",
       "      <td>6.122550e+05</td>\n",
       "      <td>3.152900e+08</td>\n",
       "    </tr>\n",
       "    <tr>\n",
       "      <th>min</th>\n",
       "      <td>1.0</td>\n",
       "      <td>1.000000</td>\n",
       "      <td>8.164400e+04</td>\n",
       "      <td>3.357584e+07</td>\n",
       "    </tr>\n",
       "    <tr>\n",
       "      <th>25%</th>\n",
       "      <td>1.0</td>\n",
       "      <td>1.000000</td>\n",
       "      <td>1.563855e+05</td>\n",
       "      <td>8.162286e+07</td>\n",
       "    </tr>\n",
       "    <tr>\n",
       "      <th>50%</th>\n",
       "      <td>1.0</td>\n",
       "      <td>1.000000</td>\n",
       "      <td>2.005995e+05</td>\n",
       "      <td>1.035561e+08</td>\n",
       "    </tr>\n",
       "    <tr>\n",
       "      <th>75%</th>\n",
       "      <td>1.0</td>\n",
       "      <td>1.000000</td>\n",
       "      <td>2.993055e+05</td>\n",
       "      <td>1.449027e+08</td>\n",
       "    </tr>\n",
       "    <tr>\n",
       "      <th>max</th>\n",
       "      <td>1.0</td>\n",
       "      <td>17.000000</td>\n",
       "      <td>1.855375e+07</td>\n",
       "      <td>8.499621e+09</td>\n",
       "    </tr>\n",
       "  </tbody>\n",
       "</table>\n",
       "</div>"
      ],
      "text/plain": [
       "       cluster     sessions     dur._(ms)    total_data\n",
       "count   1784.0  1784.000000  1.784000e+03  1.784000e+03\n",
       "mean       1.0     1.093049  3.113612e+05  1.568294e+08\n",
       "std        0.0     0.664184  6.122550e+05  3.152900e+08\n",
       "min        1.0     1.000000  8.164400e+04  3.357584e+07\n",
       "25%        1.0     1.000000  1.563855e+05  8.162286e+07\n",
       "50%        1.0     1.000000  2.005995e+05  1.035561e+08\n",
       "75%        1.0     1.000000  2.993055e+05  1.449027e+08\n",
       "max        1.0    17.000000  1.855375e+07  8.499621e+09"
      ]
     },
     "execution_count": 264,
     "metadata": {},
     "output_type": "execute_result"
    }
   ],
   "source": [
    "cluster2 = eng[eng[\"cluster\"]==1]\n",
    "cluster2.describe()"
   ]
  },
  {
   "cell_type": "code",
   "execution_count": 265,
   "id": "d5457c34",
   "metadata": {},
   "outputs": [
    {
     "data": {
      "text/html": [
       "<div>\n",
       "<style scoped>\n",
       "    .dataframe tbody tr th:only-of-type {\n",
       "        vertical-align: middle;\n",
       "    }\n",
       "\n",
       "    .dataframe tbody tr th {\n",
       "        vertical-align: top;\n",
       "    }\n",
       "\n",
       "    .dataframe thead th {\n",
       "        text-align: right;\n",
       "    }\n",
       "</style>\n",
       "<table border=\"1\" class=\"dataframe\">\n",
       "  <thead>\n",
       "    <tr style=\"text-align: right;\">\n",
       "      <th></th>\n",
       "      <th>cluster</th>\n",
       "      <th>sessions</th>\n",
       "      <th>dur._(ms)</th>\n",
       "      <th>total_data</th>\n",
       "    </tr>\n",
       "  </thead>\n",
       "  <tbody>\n",
       "    <tr>\n",
       "      <th>count</th>\n",
       "      <td>15650.0</td>\n",
       "      <td>15650.000000</td>\n",
       "      <td>1.565000e+04</td>\n",
       "      <td>1.565000e+04</td>\n",
       "    </tr>\n",
       "    <tr>\n",
       "      <th>mean</th>\n",
       "      <td>2.0</td>\n",
       "      <td>1.300192</td>\n",
       "      <td>2.362736e+05</td>\n",
       "      <td>3.569591e+08</td>\n",
       "    </tr>\n",
       "    <tr>\n",
       "      <th>std</th>\n",
       "      <td>0.0</td>\n",
       "      <td>0.905098</td>\n",
       "      <td>3.314413e+05</td>\n",
       "      <td>4.765303e+08</td>\n",
       "    </tr>\n",
       "    <tr>\n",
       "      <th>min</th>\n",
       "      <td>2.0</td>\n",
       "      <td>1.000000</td>\n",
       "      <td>1.976400e+04</td>\n",
       "      <td>3.324901e+07</td>\n",
       "    </tr>\n",
       "    <tr>\n",
       "      <th>25%</th>\n",
       "      <td>2.0</td>\n",
       "      <td>1.000000</td>\n",
       "      <td>1.022472e+05</td>\n",
       "      <td>1.471128e+08</td>\n",
       "    </tr>\n",
       "    <tr>\n",
       "      <th>50%</th>\n",
       "      <td>2.0</td>\n",
       "      <td>1.000000</td>\n",
       "      <td>1.588745e+05</td>\n",
       "      <td>2.242001e+08</td>\n",
       "    </tr>\n",
       "    <tr>\n",
       "      <th>75%</th>\n",
       "      <td>2.0</td>\n",
       "      <td>1.000000</td>\n",
       "      <td>2.455132e+05</td>\n",
       "      <td>3.705002e+08</td>\n",
       "    </tr>\n",
       "    <tr>\n",
       "      <th>max</th>\n",
       "      <td>2.0</td>\n",
       "      <td>18.000000</td>\n",
       "      <td>9.966898e+06</td>\n",
       "      <td>8.846226e+09</td>\n",
       "    </tr>\n",
       "  </tbody>\n",
       "</table>\n",
       "</div>"
      ],
      "text/plain": [
       "       cluster      sessions     dur._(ms)    total_data\n",
       "count  15650.0  15650.000000  1.565000e+04  1.565000e+04\n",
       "mean       2.0      1.300192  2.362736e+05  3.569591e+08\n",
       "std        0.0      0.905098  3.314413e+05  4.765303e+08\n",
       "min        2.0      1.000000  1.976400e+04  3.324901e+07\n",
       "25%        2.0      1.000000  1.022472e+05  1.471128e+08\n",
       "50%        2.0      1.000000  1.588745e+05  2.242001e+08\n",
       "75%        2.0      1.000000  2.455132e+05  3.705002e+08\n",
       "max        2.0     18.000000  9.966898e+06  8.846226e+09"
      ]
     },
     "execution_count": 265,
     "metadata": {},
     "output_type": "execute_result"
    }
   ],
   "source": [
    "cluster3 = eng[eng[\"cluster\"]==2]\n",
    "cluster3.describe()"
   ]
  },
  {
   "cell_type": "code",
   "execution_count": null,
   "id": "c598270d",
   "metadata": {},
   "outputs": [],
   "source": []
  },
  {
   "cell_type": "code",
   "execution_count": 271,
   "id": "245d3186",
   "metadata": {},
   "outputs": [
    {
     "data": {
      "image/png": "[encoded data removed]",
      "text/plain": [
       "<Figure size 864x504 with 1 Axes>"
      ]
     },
     "metadata": {},
     "output_type": "display_data"
    }
   ],
   "source": [
    "data = [cluster1.sessions.count(), cluster2.sessions.count(), cluster3.sessions.count()]\n",
    "keys = ['Cluster 1', 'Cluster 2', 'Cluster 3']\n",
    "plt.figure(figsize=(12, 7))\n",
    "colors = sns.color_palette('bright')\n",
    "plt.pie(data, labels=keys, colors=colors, autopct='%.0f%%')\n",
    "plt.title('cluster distribution', size=20)\n",
    "plt.show()"
   ]
  },
  {
   "cell_type": "code",
   "execution_count": 274,
   "id": "db0eab4a",
   "metadata": {},
   "outputs": [
    {
     "data": {
      "text/plain": [
       "Index(['sessions', 'start', 'start_ms', 'end', 'end_ms', 'dur._(ms)', 'imsi',\n",
       "       'msisdn/number', 'imei', 'last_location_name', 'avg_rtt_dl_(ms)',\n",
       "       'avg_rtt_ul_(ms)', 'avg_bearer_tp_dl_(kbps)', 'avg_bearer_tp_ul_(kbps)',\n",
       "       'tcp_dl_retrans._vol_(bytes)', 'tcp_ul_retrans._vol_(bytes)',\n",
       "       'dl_tp_<_50_kbps_(%)', '50_kbps_<_dl_tp_<_250_kbps_(%)',\n",
       "       '250_kbps_<_dl_tp_<_1_mbps_(%)', 'dl_tp_>_1_mbps_(%)',\n",
       "       'ul_tp_<_10_kbps_(%)', '10_kbps_<_ul_tp_<_50_kbps_(%)',\n",
       "       '50_kbps_<_ul_tp_<_300_kbps_(%)', 'ul_tp_>_300_kbps_(%)',\n",
       "       'http_dl_(bytes)', 'http_ul_(bytes)', 'activity_duration_dl_(ms)',\n",
       "       'activity_duration_ul_(ms)', 'dur._(ms).1', 'handset_manufacturer',\n",
       "       'handset_type', 'nb_of_sec_with_125000b_<_vol_dl',\n",
       "       'nb_of_sec_with_1250b_<_vol_ul_<_6250b',\n",
       "       'nb_of_sec_with_31250b_<_vol_dl_<_125000b',\n",
       "       'nb_of_sec_with_37500b_<_vol_ul',\n",
       "       'nb_of_sec_with_6250b_<_vol_dl_<_31250b',\n",
       "       'nb_of_sec_with_6250b_<_vol_ul_<_37500b',\n",
       "       'nb_of_sec_with_vol_dl_<_6250b', 'nb_of_sec_with_vol_ul_<_1250b',\n",
       "       'social_media_dl_(bytes)', 'social_media_ul_(bytes)',\n",
       "       'google_dl_(bytes)', 'google_ul_(bytes)', 'email_dl_(bytes)',\n",
       "       'email_ul_(bytes)', 'youtube_dl_(bytes)', 'youtube_ul_(bytes)',\n",
       "       'netflix_dl_(bytes)', 'netflix_ul_(bytes)', 'gaming_dl_(bytes)',\n",
       "       'gaming_ul_(bytes)', 'other_dl_(bytes)', 'other_ul_(bytes)',\n",
       "       'total_ul_(bytes)', 'total_dl_(bytes)', 'social_media', 'google',\n",
       "       'email', 'youtube', 'netflix', 'gaming', 'other', 'total_data',\n",
       "       'total_social_media_session', 'total_google_session',\n",
       "       'total_email_session', 'total_youtube_session', 'total_netflix_session',\n",
       "       'total_gaming_session', 'total_other_session'],\n",
       "      dtype='object')"
      ]
     },
     "execution_count": 274,
     "metadata": {},
     "output_type": "execute_result"
    }
   ],
   "source": [
    "df.columns"
   ]
  },
  {
   "cell_type": "markdown",
   "id": "99c0e407",
   "metadata": {},
   "source": [
    "<i>`Aggregate user total traffic per application and derive the top 10 most engaged users per application`</i>"
   ]
  },
  {
   "cell_type": "code",
   "execution_count": 275,
   "id": "b9a42db1",
   "metadata": {},
   "outputs": [],
   "source": [
    "user_app_usage = df.groupby(\n",
    "    'msisdn/number').agg({ 'total_social_media_session': 'sum', 'total_gaming_session': 'sum', 'total_youtube_session': 'sum', 'total_netflix_session': 'sum', 'total_google_session': 'sum', 'total_email_session': 'sum', 'total_other_session': 'sum'})"
   ]
  },
  {
   "cell_type": "code",
   "execution_count": 276,
   "id": "7ab294cb",
   "metadata": {},
   "outputs": [
    {
     "data": {
      "text/html": [
       "<div>\n",
       "<style scoped>\n",
       "    .dataframe tbody tr th:only-of-type {\n",
       "        vertical-align: middle;\n",
       "    }\n",
       "\n",
       "    .dataframe tbody tr th {\n",
       "        vertical-align: top;\n",
       "    }\n",
       "\n",
       "    .dataframe thead th {\n",
       "        text-align: right;\n",
       "    }\n",
       "</style>\n",
       "<table border=\"1\" class=\"dataframe\">\n",
       "  <thead>\n",
       "    <tr style=\"text-align: right;\">\n",
       "      <th></th>\n",
       "      <th>total_social_media_session</th>\n",
       "      <th>total_gaming_session</th>\n",
       "      <th>total_youtube_session</th>\n",
       "      <th>total_netflix_session</th>\n",
       "      <th>total_google_session</th>\n",
       "      <th>total_email_session</th>\n",
       "      <th>total_other_session</th>\n",
       "    </tr>\n",
       "    <tr>\n",
       "      <th>msisdn/number</th>\n",
       "      <th></th>\n",
       "      <th></th>\n",
       "      <th></th>\n",
       "      <th></th>\n",
       "      <th></th>\n",
       "      <th></th>\n",
       "      <th></th>\n",
       "    </tr>\n",
       "  </thead>\n",
       "  <tbody>\n",
       "    <tr>\n",
       "      <th>3.360100e+10</th>\n",
       "      <td>2232135.0</td>\n",
       "      <td>8.124587e+08</td>\n",
       "      <td>21624548.0</td>\n",
       "      <td>27180981.0</td>\n",
       "      <td>4389005.0</td>\n",
       "      <td>1331362.0</td>\n",
       "      <td>386570872.0</td>\n",
       "    </tr>\n",
       "    <tr>\n",
       "      <th>3.360100e+10</th>\n",
       "      <td>2660565.0</td>\n",
       "      <td>1.197501e+08</td>\n",
       "      <td>12432223.0</td>\n",
       "      <td>11221763.0</td>\n",
       "      <td>5334863.0</td>\n",
       "      <td>3307781.0</td>\n",
       "      <td>281710071.0</td>\n",
       "    </tr>\n",
       "    <tr>\n",
       "      <th>3.360100e+10</th>\n",
       "      <td>3195623.0</td>\n",
       "      <td>5.388277e+08</td>\n",
       "      <td>21333570.0</td>\n",
       "      <td>19353900.0</td>\n",
       "      <td>3443126.0</td>\n",
       "      <td>3205380.0</td>\n",
       "      <td>501693672.0</td>\n",
       "    </tr>\n",
       "    <tr>\n",
       "      <th>3.360101e+10</th>\n",
       "      <td>280294.0</td>\n",
       "      <td>3.911261e+08</td>\n",
       "      <td>6977321.0</td>\n",
       "      <td>1942092.0</td>\n",
       "      <td>9678493.0</td>\n",
       "      <td>2284670.0</td>\n",
       "      <td>35279702.0</td>\n",
       "    </tr>\n",
       "    <tr>\n",
       "      <th>3.360101e+10</th>\n",
       "      <td>2912542.0</td>\n",
       "      <td>1.314798e+09</td>\n",
       "      <td>41533002.0</td>\n",
       "      <td>49201724.0</td>\n",
       "      <td>18499616.0</td>\n",
       "      <td>3305469.0</td>\n",
       "      <td>804804484.0</td>\n",
       "    </tr>\n",
       "  </tbody>\n",
       "</table>\n",
       "</div>"
      ],
      "text/plain": [
       "               total_social_media_session  total_gaming_session  \\\n",
       "msisdn/number                                                     \n",
       "3.360100e+10                    2232135.0          8.124587e+08   \n",
       "3.360100e+10                    2660565.0          1.197501e+08   \n",
       "3.360100e+10                    3195623.0          5.388277e+08   \n",
       "3.360101e+10                     280294.0          3.911261e+08   \n",
       "3.360101e+10                    2912542.0          1.314798e+09   \n",
       "\n",
       "               total_youtube_session  total_netflix_session  \\\n",
       "msisdn/number                                                 \n",
       "3.360100e+10              21624548.0             27180981.0   \n",
       "3.360100e+10              12432223.0             11221763.0   \n",
       "3.360100e+10              21333570.0             19353900.0   \n",
       "3.360101e+10               6977321.0              1942092.0   \n",
       "3.360101e+10              41533002.0             49201724.0   \n",
       "\n",
       "               total_google_session  total_email_session  total_other_session  \n",
       "msisdn/number                                                                  \n",
       "3.360100e+10              4389005.0            1331362.0          386570872.0  \n",
       "3.360100e+10              5334863.0            3307781.0          281710071.0  \n",
       "3.360100e+10              3443126.0            3205380.0          501693672.0  \n",
       "3.360101e+10              9678493.0            2284670.0           35279702.0  \n",
       "3.360101e+10             18499616.0            3305469.0          804804484.0  "
      ]
     },
     "execution_count": 276,
     "metadata": {},
     "output_type": "execute_result"
    }
   ],
   "source": [
    "user_app_usage.head()"
   ]
  },
  {
   "cell_type": "markdown",
   "id": "dc40ad23",
   "metadata": {},
   "source": [
    "<b>`Top 10 most engaged users per application`</b>"
   ]
  },
  {
   "cell_type": "code",
   "execution_count": 318,
   "id": "31361ebd",
   "metadata": {},
   "outputs": [],
   "source": [
    "# Drop an outlier\n",
    "user_app_usage.drop(33663706799.0, axis=0, inplace=True)"
   ]
  },
  {
   "cell_type": "code",
   "execution_count": 319,
   "id": "51e072a8",
   "metadata": {},
   "outputs": [],
   "source": [
    "social_media = user_app_usage.nlargest(10, \"total_social_media_session\")['total_social_media_session']\n",
    "gaming = user_app_usage.nlargest(10, \"total_gaming_session\")['total_gaming_session']\n",
    "youtube = user_app_usage.nlargest(10, \"total_youtube_session\")['total_youtube_session']\n",
    "netflix = user_app_usage.nlargest(10, \"total_netflix_session\")['total_netflix_session']\n",
    "google = user_app_usage.nlargest(10, \"total_google_session\")['total_google_session']\n",
    "email = user_app_usage.nlargest(10, \"total_email_session\")['total_email_session']\n",
    "other = user_app_usage.nlargest(10, \"total_other_session\")['total_other_session']"
   ]
  },
  {
   "cell_type": "code",
   "execution_count": 320,
   "id": "58dac3b3",
   "metadata": {},
   "outputs": [],
   "source": [
    "social_media_df = pd.DataFrame()\n",
    "social_media_df['User_ID'] = social_media.index\n",
    "social_media_df['total_social_media_session'] = social_media.values\n",
    "gaming_df = pd.DataFrame()\n",
    "gaming_df['User_ID'] = gaming.index\n",
    "gaming_df['total_gaming_session'] = gaming.values\n",
    "youtube_df = pd.DataFrame()\n",
    "youtube_df['User_ID'] = youtube.index\n",
    "youtube_df['total_youtube_session'] = youtube.values\n",
    "\n",
    "netflix_df = pd.DataFrame()\n",
    "netflix_df['User_ID'] = netflix.index\n",
    "netflix_df['total_netflix_session'] = netflix.values\n",
    "google_df = pd.DataFrame()\n",
    "google_df['User_ID'] = google.index\n",
    "google_df['total_google_session'] = google.values\n",
    "email_df = pd.DataFrame()\n",
    "email_df['User_ID'] = email.index\n",
    "email_df['total_email_session'] = email.values\n",
    "others_df = pd.DataFrame()\n",
    "others_df['User_ID'] = other.index\n",
    "others_df['total_other_session'] = other.values"
   ]
  },
  {
   "cell_type": "markdown",
   "id": "3791fee3",
   "metadata": {},
   "source": [
    "<b>`Top 10 most engaged users per application`</b>"
   ]
  },
  {
   "cell_type": "code",
   "execution_count": 324,
   "id": "e7bfaa9c",
   "metadata": {},
   "outputs": [
    {
     "data": {
      "text/plain": [
       "[]"
      ]
     },
     "execution_count": 324,
     "metadata": {},
     "output_type": "execute_result"
    },
    {
     "data": {
      "image/png": "[encoded data removed]",
      "text/plain": [
       "<Figure size 1800x1080 with 8 Axes>"
      ]
     },
     "metadata": {
      "needs_background": "light"
     },
     "output_type": "display_data"
    }
   ],
   "source": [
    "f, axes = plt.subplots(2, 4, figsize=(25, 15))\n",
    "ax1 = sns.barplot(data=social_media_df, x='User_ID', orient='v', y='total_social_media_session', ax=axes[0,0], palette='YlGnBu')\n",
    "ax2 = sns.barplot(data=gaming_df, x='User_ID',orient='v', y='total_gaming_session', ax=axes[0,1], palette='YlGnBu')\n",
    "ax3 = sns.barplot(data=youtube_df, x='User_ID',orient='v', y='total_youtube_session', ax=axes[0,2], palette='Blues_d')\n",
    "ax4 = sns.barplot(data=netflix_df, x='User_ID',orient='v', y='total_netflix_session', ax=axes[0,3], palette='YlGnBu')\n",
    "ax5 = sns.barplot(data=google_df, x='User_ID',orient='v', y='total_google_session', ax=axes[1,0], palette='Blues_d')\n",
    "ax6 = sns.barplot(data=email_df, x='User_ID',orient='v', y='total_email_session', ax=axes[1,1], palette='YlGnBu')\n",
    "ax7 = sns.barplot(data=others_df, x='User_ID',orient='v', y='total_other_session', ax=axes[1,2], palette='Blues_d')\n",
    "ax1.set_xticklabels(ax1.xaxis.get_majorticklabels(), rotation=45)\n",
    "ax2.set_xticklabels(ax2.xaxis.get_majorticklabels(), rotation=45)\n",
    "ax3.set_xticklabels(ax3.xaxis.get_majorticklabels(), rotation=45)\n",
    "ax4.set_xticklabels(ax4.xaxis.get_majorticklabels(), rotation=45)\n",
    "ax5.set_xticklabels(ax5.xaxis.get_majorticklabels(), rotation=45)\n",
    "ax6.set_xticklabels(ax6.xaxis.get_majorticklabels(), rotation=45)\n",
    "ax7.set_xticklabels(ax7.xaxis.get_majorticklabels(), rotation=45)\n",
    "plt.plot()"
   ]
  },
  {
   "cell_type": "markdown",
   "id": "793b8e04",
   "metadata": {},
   "source": [
    "<b>`Plot the top 3 most used applications using appropriate charts.`</b>"
   ]
  },
  {
   "cell_type": "code",
   "execution_count": 325,
   "id": "f9ccc075",
   "metadata": {},
   "outputs": [],
   "source": [
    "top_used_applications = user_app_usage.sum()"
   ]
  },
  {
   "cell_type": "code",
   "execution_count": 326,
   "id": "f3edc747",
   "metadata": {},
   "outputs": [
    {
     "data": {
      "text/plain": [
       "array([2.72265161e+11, 6.40887608e+13, 3.37219431e+12, 3.37003150e+12,\n",
       "       1.16285129e+12, 3.36463983e+11, 6.39535788e+13])"
      ]
     },
     "execution_count": 326,
     "metadata": {},
     "output_type": "execute_result"
    }
   ],
   "source": [
    "top_used_applications.values"
   ]
  },
  {
   "cell_type": "code",
   "execution_count": 327,
   "id": "ef9cd198",
   "metadata": {},
   "outputs": [
    {
     "data": {
      "text/plain": [
       "total_gaming_session     6.408876e+13\n",
       "total_other_session      6.395358e+13\n",
       "total_youtube_session    3.372194e+12\n",
       "dtype: float64"
      ]
     },
     "execution_count": 327,
     "metadata": {},
     "output_type": "execute_result"
    }
   ],
   "source": [
    "top_3_used = top_used_applications.nlargest(3)\n",
    "top_3_used"
   ]
  },
  {
   "cell_type": "code",
   "execution_count": null,
   "id": "2a04d32a",
   "metadata": {},
   "outputs": [],
   "source": [
    "top_3_used, [\"Netflix\", \"Email\", \"Gaming\"], top_3_used.values, , , "
   ]
  },
  {
   "cell_type": "code",
   "execution_count": 336,
   "id": "286db0c2",
   "metadata": {},
   "outputs": [
    {
     "data": {
      "image/png": "[encoded data removed]",
      "text/plain": [
       "<Figure size 864x504 with 1 Axes>"
      ]
     },
     "metadata": {
      "needs_background": "light"
     },
     "output_type": "display_data"
    }
   ],
   "source": [
    "plt.figure(figsize=(12, 7))\n",
    "sns.barplot(data=top_3_used, x=[\"Netflix\", \"Email\", \"Gaming\"], y=top_3_used.values)\n",
    "plt.title(label = \"Top 3 Used Applications\", size=20)\n",
    "plt.xticks(rotation=75, fontsize=14)\n",
    "plt.yticks(fontsize=14)\n",
    "plt.xlabel(xlabel = \"Applications\", fontsize=16)\n",
    "plt.ylabel(ylabel = 'usage count', fontsize=16)\n",
    "plt.show()"
   ]
  },
  {
   "cell_type": "code",
   "execution_count": 338,
   "id": "94f07db1",
   "metadata": {},
   "outputs": [],
   "source": [
    "inertias = []\n",
    "for i in range(1,16):\n",
    "    kmeans = KMeans(n_clusters = i, init = 'k-means++', random_state = 42)\n",
    "    kmeans.fit(normalized)\n",
    "    inertias.append(kmeans.inertia_)"
   ]
  },
  {
   "cell_type": "code",
   "execution_count": 339,
   "id": "90346176",
   "metadata": {},
   "outputs": [
    {
     "data": {
      "image/png": "[encoded data removed]",
      "text/plain": [
       "<Figure size 720x576 with 1 Axes>"
      ]
     },
     "metadata": {
      "needs_background": "light"
     },
     "output_type": "display_data"
    }
   ],
   "source": [
    "# Plotting the cluster size vs. inertia graph to find the optimal cluster\n",
    "plt.figure(figsize = (10,8))\n",
    "plt.plot(range(1, 16), inertias, marker = 'o', linestyle = '--')\n",
    "plt.xlabel('Number of Clusters')\n",
    "plt.ylabel('Inertias')\n",
    "plt.title('K-means Clustering')\n",
    "plt.show()"
   ]
  },
  {
   "cell_type": "code",
   "execution_count": 343,
   "id": "52cf4756",
   "metadata": {},
   "outputs": [
    {
     "data": {
      "text/plain": [
       "3"
      ]
     },
     "execution_count": 343,
     "metadata": {},
     "output_type": "execute_result"
    }
   ],
   "source": [
    "kl = KneeLocator(range(0, 15), inertias, curve=\"convex\", direction=\"decreasing\")\n",
    "kl.elbow"
   ]
  },
  {
   "cell_type": "markdown",
   "id": "d45ddcda",
   "metadata": {},
   "source": [
    "<i>`Using the elbow method, the optimal number of cluster is 3, which is the number of cluster I used above in the k-means clustering.`</i>"
   ]
  },
  {
   "cell_type": "code",
   "execution_count": 341,
   "id": "dae91176",
   "metadata": {},
   "outputs": [],
   "source": [
    "# We create a new data frame with the original features and add a new column with the assigned clusters for each point.\n",
    "df_segm_kmeans = normalized.copy()\n",
    "df_segm_kmeans['Segment_K-means'] = kmeans.labels_"
   ]
  },
  {
   "cell_type": "code",
   "execution_count": 342,
   "id": "58947a15",
   "metadata": {},
   "outputs": [
    {
     "data": {
      "text/html": [
       "<div>\n",
       "<style scoped>\n",
       "    .dataframe tbody tr th:only-of-type {\n",
       "        vertical-align: middle;\n",
       "    }\n",
       "\n",
       "    .dataframe tbody tr th {\n",
       "        vertical-align: top;\n",
       "    }\n",
       "\n",
       "    .dataframe thead th {\n",
       "        text-align: right;\n",
       "    }\n",
       "</style>\n",
       "<table border=\"1\" class=\"dataframe\">\n",
       "  <thead>\n",
       "    <tr style=\"text-align: right;\">\n",
       "      <th></th>\n",
       "      <th>sessions</th>\n",
       "      <th>dur._(ms)</th>\n",
       "      <th>total_data</th>\n",
       "    </tr>\n",
       "    <tr>\n",
       "      <th>Segment_K-means</th>\n",
       "      <th></th>\n",
       "      <th></th>\n",
       "      <th></th>\n",
       "    </tr>\n",
       "  </thead>\n",
       "  <tbody>\n",
       "    <tr>\n",
       "      <th>0</th>\n",
       "      <td>6.959865e-09</td>\n",
       "      <td>0.000969</td>\n",
       "      <td>1.000000</td>\n",
       "    </tr>\n",
       "    <tr>\n",
       "      <th>1</th>\n",
       "      <td>1.930352e-09</td>\n",
       "      <td>0.000128</td>\n",
       "      <td>1.000000</td>\n",
       "    </tr>\n",
       "    <tr>\n",
       "      <th>2</th>\n",
       "      <td>1.102266e-08</td>\n",
       "      <td>0.002848</td>\n",
       "      <td>0.999996</td>\n",
       "    </tr>\n",
       "    <tr>\n",
       "      <th>3</th>\n",
       "      <td>3.483220e-09</td>\n",
       "      <td>0.000414</td>\n",
       "      <td>1.000000</td>\n",
       "    </tr>\n",
       "    <tr>\n",
       "      <th>4</th>\n",
       "      <td>9.242371e-09</td>\n",
       "      <td>0.001618</td>\n",
       "      <td>0.999999</td>\n",
       "    </tr>\n",
       "    <tr>\n",
       "      <th>5</th>\n",
       "      <td>4.410585e-09</td>\n",
       "      <td>0.000563</td>\n",
       "      <td>1.000000</td>\n",
       "    </tr>\n",
       "    <tr>\n",
       "      <th>6</th>\n",
       "      <td>2.783886e-09</td>\n",
       "      <td>0.000297</td>\n",
       "      <td>1.000000</td>\n",
       "    </tr>\n",
       "    <tr>\n",
       "      <th>7</th>\n",
       "      <td>1.021627e-08</td>\n",
       "      <td>0.002131</td>\n",
       "      <td>0.999998</td>\n",
       "    </tr>\n",
       "    <tr>\n",
       "      <th>8</th>\n",
       "      <td>1.120830e-08</td>\n",
       "      <td>0.005630</td>\n",
       "      <td>0.999984</td>\n",
       "    </tr>\n",
       "    <tr>\n",
       "      <th>9</th>\n",
       "      <td>2.245372e-09</td>\n",
       "      <td>0.000205</td>\n",
       "      <td>1.000000</td>\n",
       "    </tr>\n",
       "    <tr>\n",
       "      <th>10</th>\n",
       "      <td>1.852722e-09</td>\n",
       "      <td>0.000052</td>\n",
       "      <td>1.000000</td>\n",
       "    </tr>\n",
       "    <tr>\n",
       "      <th>11</th>\n",
       "      <td>1.282365e-08</td>\n",
       "      <td>0.008836</td>\n",
       "      <td>0.999960</td>\n",
       "    </tr>\n",
       "    <tr>\n",
       "      <th>12</th>\n",
       "      <td>8.236570e-09</td>\n",
       "      <td>0.001249</td>\n",
       "      <td>0.999999</td>\n",
       "    </tr>\n",
       "    <tr>\n",
       "      <th>13</th>\n",
       "      <td>5.566103e-09</td>\n",
       "      <td>0.000745</td>\n",
       "      <td>1.000000</td>\n",
       "    </tr>\n",
       "    <tr>\n",
       "      <th>14</th>\n",
       "      <td>1.170007e-08</td>\n",
       "      <td>0.003970</td>\n",
       "      <td>0.999992</td>\n",
       "    </tr>\n",
       "  </tbody>\n",
       "</table>\n",
       "</div>"
      ],
      "text/plain": [
       "                     sessions  dur._(ms)  total_data\n",
       "Segment_K-means                                     \n",
       "0                6.959865e-09   0.000969    1.000000\n",
       "1                1.930352e-09   0.000128    1.000000\n",
       "2                1.102266e-08   0.002848    0.999996\n",
       "3                3.483220e-09   0.000414    1.000000\n",
       "4                9.242371e-09   0.001618    0.999999\n",
       "5                4.410585e-09   0.000563    1.000000\n",
       "6                2.783886e-09   0.000297    1.000000\n",
       "7                1.021627e-08   0.002131    0.999998\n",
       "8                1.120830e-08   0.005630    0.999984\n",
       "9                2.245372e-09   0.000205    1.000000\n",
       "10               1.852722e-09   0.000052    1.000000\n",
       "11               1.282365e-08   0.008836    0.999960\n",
       "12               8.236570e-09   0.001249    0.999999\n",
       "13               5.566103e-09   0.000745    1.000000\n",
       "14               1.170007e-08   0.003970    0.999992"
      ]
     },
     "execution_count": 342,
     "metadata": {},
     "output_type": "execute_result"
    }
   ],
   "source": [
    "# Calculate mean values for the clusters\n",
    "df_segm_analysis = df_segm_kmeans.groupby(['Segment_K-means']).mean()\n",
    "df_segm_analysis"
   ]
  },
  {
   "cell_type": "code",
   "execution_count": 347,
   "id": "58d197c0",
   "metadata": {},
   "outputs": [],
   "source": [
    "import pickle\n",
    "with open(\"../models/user_engagement.pkl\", \"wb\") as f:\n",
    "    pickle.dump(kmeans, f)"
   ]
  },
  {
   "cell_type": "code",
   "execution_count": 344,
   "id": "cfbb46a5",
   "metadata": {},
   "outputs": [],
   "source": [
    "normalized.to_csv('../data/normalized_data.csv')"
   ]
  },
  {
   "cell_type": "code",
   "execution_count": 345,
   "id": "7ea14f4e",
   "metadata": {},
   "outputs": [],
   "source": [
    "eng.to_csv('../data/user_engagement.csv')"
   ]
  },
  {
   "cell_type": "code",
   "execution_count": null,
   "id": "deac41ea",
   "metadata": {},
   "outputs": [],
   "source": []
  }
 ],
 "metadata": {
  "kernelspec": {
   "display_name": "Python 3 (ipykernel)",
   "language": "python",
   "name": "python3"
  },
  "language_info": {
   "codemirror_mode": {
    "name": "ipython",
    "version": 3
   },
   "file_extension": ".py",
   "mimetype": "text/x-python",
   "name": "python",
   "nbconvert_exporter": "python",
   "pygments_lexer": "ipython3",
   "version": "3.7.11"
  }
 },
 "nbformat": 4,
 "nbformat_minor": 5
}
