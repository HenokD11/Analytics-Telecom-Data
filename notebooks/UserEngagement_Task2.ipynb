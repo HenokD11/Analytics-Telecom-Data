{
 "cells": [
  {
   "cell_type": "markdown",
   "id": "72cec198",
   "metadata": {},
   "source": [
    "<b>`Import Libraries`</b>"
   ]
  },
  {
   "cell_type": "code",
   "execution_count": 8,
   "id": "9befe610",
   "metadata": {},
   "outputs": [],
   "source": [
    "# Import all the libraries for Data Analysis, Visualisation, Random Forest & Logisic Regression\n",
    "\n",
    "# Libraries for Dataset analysis\n",
    "import pandas as pd\n",
    "import numpy as np\n",
    "\n",
    "# Ignore Warnings\n",
    "import warnings\n",
    "warnings.filterwarnings('ignore')\n",
    "\n",
    "# For Data Visualisation\n",
    "import matplotlib.pyplot as plt\n",
    "import seaborn as sns\n",
    "%matplotlib inline\n",
    "\n",
    "# To Split the data into traning & test data sets\n",
    "from sklearn.model_selection import train_test_split\n",
    "\n",
    "# For Standardisation & Scaling\n",
    "from sklearn.preprocessing import scale\n",
    "from sklearn.preprocessing import StandardScaler\n",
    "\n",
    "# For building logistic regression model\n",
    "import statsmodels.api as sm\n",
    "\n",
    "# Import RFE used in feature elimination\n",
    "from sklearn.linear_model import LogisticRegression\n",
    "from sklearn.feature_selection import RFE\n",
    "\n",
    "# Check for VIF value of the variable\n",
    "from statsmodels.stats.outliers_influence import variance_inflation_factor\n",
    "\n",
    "# Import  compute accuracy scores & Confusion matrix\n",
    "from sklearn import metrics\n",
    "from sklearn.metrics import confusion_matrix\n",
    "from sklearn.metrics import precision_score, recall_score\n",
    "from sklearn.metrics import precision_recall_curve\n",
    "\n",
    "from sklearn.ensemble import RandomForestClassifier\n",
    "from sklearn.tree import DecisionTreeClassifier\n",
    "from sklearn.ensemble import AdaBoostClassifier\n",
    "from sklearn.ensemble import GradientBoostingClassifier\n",
    "\n",
    "import xgboost as xgb\n",
    "from xgboost import XGBClassifier\n",
    "from xgboost import plot_importance\n",
    "import gc \n",
    "\n",
    "from sklearn.metrics import classification_report,confusion_matrix,accuracy_score\n",
    "                        \n",
    "from sklearn.model_selection import KFold\n",
    "from sklearn.model_selection import GridSearchCV\n",
    "\n",
    "#Importing the PCA module\n",
    "from sklearn.decomposition import PCA\n",
    "\n",
    "# import SMOTE module from imblearn library \n",
    "from imblearn.over_sampling import SMOTE\n",
    "\n",
    "# For building logistic regression model\n",
    "import statsmodels.api as sm\n",
    "\n",
    "# Import RFE used in feature elimination\n",
    "from sklearn.linear_model import LogisticRegression\n",
    "from sklearn.feature_selection import RFE"
   ]
  },
  {
   "cell_type": "code",
   "execution_count": null,
   "id": "262c6634",
   "metadata": {},
   "outputs": [],
   "source": []
  },
  {
   "cell_type": "markdown",
   "id": "2fd8d579",
   "metadata": {},
   "source": [
    "<b>`TASK 2: USER ENGAGEMENT ANALYSIS`\n",
    "    \n",
    "    Track the user’s engagement using the following engagement metrics:\n",
    "\n",
    "        1. sessions frequency\n",
    "        2. the duration of the session\n",
    "        3. the sessions total traffic (download and upload (bytes))"
   ]
  },
  {
   "cell_type": "code",
   "execution_count": 145,
   "id": "d61ed083",
   "metadata": {},
   "outputs": [
    {
     "data": {
      "text/html": [
       "<div>\n",
       "<style scoped>\n",
       "    .dataframe tbody tr th:only-of-type {\n",
       "        vertical-align: middle;\n",
       "    }\n",
       "\n",
       "    .dataframe tbody tr th {\n",
       "        vertical-align: top;\n",
       "    }\n",
       "\n",
       "    .dataframe thead th {\n",
       "        text-align: right;\n",
       "    }\n",
       "</style>\n",
       "<table border=\"1\" class=\"dataframe\">\n",
       "  <thead>\n",
       "    <tr style=\"text-align: right;\">\n",
       "      <th></th>\n",
       "      <th>bearer_id</th>\n",
       "      <th>start</th>\n",
       "      <th>start_ms</th>\n",
       "      <th>end</th>\n",
       "      <th>end_ms</th>\n",
       "      <th>dur._(ms)</th>\n",
       "      <th>imsi</th>\n",
       "      <th>msisdn/number</th>\n",
       "      <th>imei</th>\n",
       "      <th>last_location_name</th>\n",
       "      <th>...</th>\n",
       "      <th>total_ul_(bytes)</th>\n",
       "      <th>total_dl_(bytes)</th>\n",
       "      <th>social_media</th>\n",
       "      <th>google</th>\n",
       "      <th>email</th>\n",
       "      <th>youtube</th>\n",
       "      <th>netflix</th>\n",
       "      <th>gaming</th>\n",
       "      <th>other</th>\n",
       "      <th>total_data</th>\n",
       "    </tr>\n",
       "  </thead>\n",
       "  <tbody>\n",
       "    <tr>\n",
       "      <th>0</th>\n",
       "      <td>1.311448e+19</td>\n",
       "      <td>2019-04-04 12:01:18</td>\n",
       "      <td>770.0</td>\n",
       "      <td>2019-04-25 14:35:31</td>\n",
       "      <td>662.0</td>\n",
       "      <td>1823652.0</td>\n",
       "      <td>2.082014e+14</td>\n",
       "      <td>3.366496e+10</td>\n",
       "      <td>3.552121e+13</td>\n",
       "      <td>9164566995485190</td>\n",
       "      <td>...</td>\n",
       "      <td>36749741.0</td>\n",
       "      <td>308879636.0</td>\n",
       "      <td>1.570185</td>\n",
       "      <td>2.905912</td>\n",
       "      <td>3.701304</td>\n",
       "      <td>18.355943</td>\n",
       "      <td>17.855187</td>\n",
       "      <td>292.426453</td>\n",
       "      <td>180.558843</td>\n",
       "      <td>345.629377</td>\n",
       "    </tr>\n",
       "    <tr>\n",
       "      <th>1</th>\n",
       "      <td>1.311448e+19</td>\n",
       "      <td>2019-04-09 13:04:04</td>\n",
       "      <td>235.0</td>\n",
       "      <td>2019-04-25 08:15:48</td>\n",
       "      <td>606.0</td>\n",
       "      <td>1365104.0</td>\n",
       "      <td>2.082019e+14</td>\n",
       "      <td>3.368185e+10</td>\n",
       "      <td>3.579401e+13</td>\n",
       "      <td>L77566A</td>\n",
       "      <td>...</td>\n",
       "      <td>53800391.0</td>\n",
       "      <td>653384965.0</td>\n",
       "      <td>1.933278</td>\n",
       "      <td>4.414096</td>\n",
       "      <td>0.937385</td>\n",
       "      <td>39.359124</td>\n",
       "      <td>35.565545</td>\n",
       "      <td>609.920783</td>\n",
       "      <td>541.959383</td>\n",
       "      <td>707.185356</td>\n",
       "    </tr>\n",
       "    <tr>\n",
       "      <th>2</th>\n",
       "      <td>1.311448e+19</td>\n",
       "      <td>2019-04-09 17:42:11</td>\n",
       "      <td>1.0</td>\n",
       "      <td>2019-04-25 11:58:13</td>\n",
       "      <td>652.0</td>\n",
       "      <td>1361762.0</td>\n",
       "      <td>2.082003e+14</td>\n",
       "      <td>3.376063e+10</td>\n",
       "      <td>3.528151e+13</td>\n",
       "      <td>D42335A</td>\n",
       "      <td>...</td>\n",
       "      <td>27883638.0</td>\n",
       "      <td>279807335.0</td>\n",
       "      <td>1.726277</td>\n",
       "      <td>10.229119</td>\n",
       "      <td>3.363124</td>\n",
       "      <td>34.425237</td>\n",
       "      <td>23.751202</td>\n",
       "      <td>229.980251</td>\n",
       "      <td>414.908351</td>\n",
       "      <td>307.690973</td>\n",
       "    </tr>\n",
       "    <tr>\n",
       "      <th>3</th>\n",
       "      <td>1.311448e+19</td>\n",
       "      <td>2019-04-10 00:31:25</td>\n",
       "      <td>486.0</td>\n",
       "      <td>2019-04-25 07:36:35</td>\n",
       "      <td>171.0</td>\n",
       "      <td>1321509.0</td>\n",
       "      <td>2.082014e+14</td>\n",
       "      <td>3.375034e+10</td>\n",
       "      <td>3.535661e+13</td>\n",
       "      <td>T21824A</td>\n",
       "      <td>...</td>\n",
       "      <td>43324218.0</td>\n",
       "      <td>846028530.0</td>\n",
       "      <td>0.657493</td>\n",
       "      <td>11.811761</td>\n",
       "      <td>2.070983</td>\n",
       "      <td>36.534765</td>\n",
       "      <td>15.092588</td>\n",
       "      <td>810.387875</td>\n",
       "      <td>761.837216</td>\n",
       "      <td>889.352748</td>\n",
       "    </tr>\n",
       "    <tr>\n",
       "      <th>4</th>\n",
       "      <td>1.311448e+19</td>\n",
       "      <td>2019-04-12 20:10:23</td>\n",
       "      <td>565.0</td>\n",
       "      <td>2019-04-25 10:40:32</td>\n",
       "      <td>954.0</td>\n",
       "      <td>1089009.0</td>\n",
       "      <td>2.082014e+14</td>\n",
       "      <td>3.369980e+10</td>\n",
       "      <td>3.540701e+13</td>\n",
       "      <td>D88865A</td>\n",
       "      <td>...</td>\n",
       "      <td>38542814.0</td>\n",
       "      <td>569138589.0</td>\n",
       "      <td>0.912788</td>\n",
       "      <td>7.748843</td>\n",
       "      <td>2.110349</td>\n",
       "      <td>34.222253</td>\n",
       "      <td>17.539799</td>\n",
       "      <td>531.237049</td>\n",
       "      <td>564.619822</td>\n",
       "      <td>607.681403</td>\n",
       "    </tr>\n",
       "  </tbody>\n",
       "</table>\n",
       "<p>5 rows × 63 columns</p>\n",
       "</div>"
      ],
      "text/plain": [
       "      bearer_id                start  start_ms                  end  end_ms  \\\n",
       "0  1.311448e+19  2019-04-04 12:01:18     770.0  2019-04-25 14:35:31   662.0   \n",
       "1  1.311448e+19  2019-04-09 13:04:04     235.0  2019-04-25 08:15:48   606.0   \n",
       "2  1.311448e+19  2019-04-09 17:42:11       1.0  2019-04-25 11:58:13   652.0   \n",
       "3  1.311448e+19  2019-04-10 00:31:25     486.0  2019-04-25 07:36:35   171.0   \n",
       "4  1.311448e+19  2019-04-12 20:10:23     565.0  2019-04-25 10:40:32   954.0   \n",
       "\n",
       "   dur._(ms)          imsi  msisdn/number          imei last_location_name  \\\n",
       "0  1823652.0  2.082014e+14   3.366496e+10  3.552121e+13   9164566995485190   \n",
       "1  1365104.0  2.082019e+14   3.368185e+10  3.579401e+13            L77566A   \n",
       "2  1361762.0  2.082003e+14   3.376063e+10  3.528151e+13            D42335A   \n",
       "3  1321509.0  2.082014e+14   3.375034e+10  3.535661e+13            T21824A   \n",
       "4  1089009.0  2.082014e+14   3.369980e+10  3.540701e+13            D88865A   \n",
       "\n",
       "   ...  total_ul_(bytes)  total_dl_(bytes)  social_media     google     email  \\\n",
       "0  ...        36749741.0       308879636.0      1.570185   2.905912  3.701304   \n",
       "1  ...        53800391.0       653384965.0      1.933278   4.414096  0.937385   \n",
       "2  ...        27883638.0       279807335.0      1.726277  10.229119  3.363124   \n",
       "3  ...        43324218.0       846028530.0      0.657493  11.811761  2.070983   \n",
       "4  ...        38542814.0       569138589.0      0.912788   7.748843  2.110349   \n",
       "\n",
       "     youtube    netflix      gaming       other  total_data  \n",
       "0  18.355943  17.855187  292.426453  180.558843  345.629377  \n",
       "1  39.359124  35.565545  609.920783  541.959383  707.185356  \n",
       "2  34.425237  23.751202  229.980251  414.908351  307.690973  \n",
       "3  36.534765  15.092588  810.387875  761.837216  889.352748  \n",
       "4  34.222253  17.539799  531.237049  564.619822  607.681403  \n",
       "\n",
       "[5 rows x 63 columns]"
      ]
     },
     "execution_count": 145,
     "metadata": {},
     "output_type": "execute_result"
    }
   ],
   "source": [
    "data = pd.read_csv('../data/Task1_clean_data.csv')\n",
    "data.head()"
   ]
  },
  {
   "cell_type": "code",
   "execution_count": 146,
   "id": "e3a9eec9",
   "metadata": {},
   "outputs": [],
   "source": [
    "df = data.copy()"
   ]
  },
  {
   "cell_type": "code",
   "execution_count": 147,
   "id": "e0ca559c",
   "metadata": {},
   "outputs": [
    {
     "data": {
      "text/plain": [
       "bearer_id     float64\n",
       "start          object\n",
       "start_ms      float64\n",
       "end            object\n",
       "end_ms        float64\n",
       "               ...   \n",
       "youtube       float64\n",
       "netflix       float64\n",
       "gaming        float64\n",
       "other         float64\n",
       "total_data    float64\n",
       "Length: 63, dtype: object"
      ]
     },
     "execution_count": 147,
     "metadata": {},
     "output_type": "execute_result"
    }
   ],
   "source": [
    "df.dtypes"
   ]
  },
  {
   "cell_type": "code",
   "execution_count": 148,
   "id": "a369be04",
   "metadata": {},
   "outputs": [
    {
     "name": "stdout",
     "output_type": "stream",
     "text": [
      "58\n"
     ]
    }
   ],
   "source": [
    "# List only the numeric columns\n",
    "numeric_cols = df.select_dtypes(exclude=['object', 'datetime64[ns]']).columns\n",
    "print(len(numeric_cols))"
   ]
  },
  {
   "cell_type": "code",
   "execution_count": 149,
   "id": "432caa0d",
   "metadata": {},
   "outputs": [
    {
     "data": {
      "text/plain": [
       "bearer_id     0\n",
       "start         0\n",
       "start_ms      0\n",
       "end           0\n",
       "end_ms        0\n",
       "             ..\n",
       "youtube       0\n",
       "netflix       0\n",
       "gaming        0\n",
       "other         0\n",
       "total_data    0\n",
       "Length: 63, dtype: int64"
      ]
     },
     "execution_count": 149,
     "metadata": {},
     "output_type": "execute_result"
    }
   ],
   "source": [
    "df.isna().sum()"
   ]
  },
  {
   "cell_type": "markdown",
   "id": "c9cdd484",
   "metadata": {},
   "source": [
    "<b>`2.1.1 - \n",
    "    Top 10 customers per engagement metric`</b>\n",
    "    \n",
    "   `How often do customers use diffrent apps?\n",
    "    What is the average usage of apps per customer per app`"
   ]
  },
  {
   "cell_type": "code",
   "execution_count": null,
   "id": "bbbfd78f",
   "metadata": {},
   "outputs": [],
   "source": []
  },
  {
   "cell_type": "code",
   "execution_count": 150,
   "id": "38f15fd0",
   "metadata": {},
   "outputs": [],
   "source": [
    "df.columns = [column.replace(' ', '_').lower() for column in df.columns]"
   ]
  },
  {
   "cell_type": "markdown",
   "id": "1d555d48",
   "metadata": {},
   "source": [
    "<i>`Top 10 customers per session freuency`</i>"
   ]
  },
  {
   "cell_type": "code",
   "execution_count": 151,
   "id": "3c24b36f",
   "metadata": {},
   "outputs": [
    {
     "data": {
      "text/html": [
       "<div>\n",
       "<style scoped>\n",
       "    .dataframe tbody tr th:only-of-type {\n",
       "        vertical-align: middle;\n",
       "    }\n",
       "\n",
       "    .dataframe tbody tr th {\n",
       "        vertical-align: top;\n",
       "    }\n",
       "\n",
       "    .dataframe thead th {\n",
       "        text-align: right;\n",
       "    }\n",
       "</style>\n",
       "<table border=\"1\" class=\"dataframe\">\n",
       "  <thead>\n",
       "    <tr style=\"text-align: right;\">\n",
       "      <th></th>\n",
       "      <th>msisdn/number</th>\n",
       "      <th>bearer_id</th>\n",
       "    </tr>\n",
       "  </thead>\n",
       "  <tbody>\n",
       "    <tr>\n",
       "      <th>53644</th>\n",
       "      <td>3.366371e+10</td>\n",
       "      <td>1067</td>\n",
       "    </tr>\n",
       "    <tr>\n",
       "      <th>13526</th>\n",
       "      <td>3.362632e+10</td>\n",
       "      <td>18</td>\n",
       "    </tr>\n",
       "    <tr>\n",
       "      <th>6437</th>\n",
       "      <td>3.361489e+10</td>\n",
       "      <td>17</td>\n",
       "    </tr>\n",
       "    <tr>\n",
       "      <th>13180</th>\n",
       "      <td>3.362578e+10</td>\n",
       "      <td>17</td>\n",
       "    </tr>\n",
       "    <tr>\n",
       "      <th>37052</th>\n",
       "      <td>3.365973e+10</td>\n",
       "      <td>16</td>\n",
       "    </tr>\n",
       "    <tr>\n",
       "      <th>76363</th>\n",
       "      <td>3.367588e+10</td>\n",
       "      <td>15</td>\n",
       "    </tr>\n",
       "    <tr>\n",
       "      <th>92923</th>\n",
       "      <td>3.376054e+10</td>\n",
       "      <td>15</td>\n",
       "    </tr>\n",
       "    <tr>\n",
       "      <th>65118</th>\n",
       "      <td>3.366716e+10</td>\n",
       "      <td>13</td>\n",
       "    </tr>\n",
       "    <tr>\n",
       "      <th>1279</th>\n",
       "      <td>3.360452e+10</td>\n",
       "      <td>12</td>\n",
       "    </tr>\n",
       "    <tr>\n",
       "      <th>92577</th>\n",
       "      <td>3.376041e+10</td>\n",
       "      <td>12</td>\n",
       "    </tr>\n",
       "  </tbody>\n",
       "</table>\n",
       "</div>"
      ],
      "text/plain": [
       "       msisdn/number  bearer_id\n",
       "53644   3.366371e+10       1067\n",
       "13526   3.362632e+10         18\n",
       "6437    3.361489e+10         17\n",
       "13180   3.362578e+10         17\n",
       "37052   3.365973e+10         16\n",
       "76363   3.367588e+10         15\n",
       "92923   3.376054e+10         15\n",
       "65118   3.366716e+10         13\n",
       "1279    3.360452e+10         12\n",
       "92577   3.376041e+10         12"
      ]
     },
     "execution_count": 151,
     "metadata": {},
     "output_type": "execute_result"
    }
   ],
   "source": [
    "top10_customers_by_session=df.groupby('msisdn/number').agg({'bearer_id':'count'}).reset_index().sort_values('bearer_id',ascending=False).head(10)\n",
    "top10_customers_by_session"
   ]
  },
  {
   "cell_type": "code",
   "execution_count": 152,
   "id": "2e5bce74",
   "metadata": {},
   "outputs": [
    {
     "data": {
      "text/plain": [
       "Text(0.5, 1.0, 'Top 10 customers by session frequency')"
      ]
     },
     "execution_count": 152,
     "metadata": {},
     "output_type": "execute_result"
    },
    {
     "data": {
      "image/png": "[encoded data removed]",
      "text/plain": [
       "<Figure size 864x576 with 1 Axes>"
      ]
     },
     "metadata": {
      "needs_background": "light"
     },
     "output_type": "display_data"
    }
   ],
   "source": [
    "plt.subplots(figsize=(12,8))\n",
    "sns.barplot(y='bearer_id',x='msisdn/number',data=top10_customers_by_session)\n",
    "plt.xticks(rotation=40)\n",
    "plt.xlabel(\"Customer MSISDN Number\")\n",
    "plt.ylabel(\"Session frequency \")\n",
    "plt.title('Top 10 customers by session frequency',fontsize=18)"
   ]
  },
  {
   "cell_type": "markdown",
   "id": "ab1a43dc",
   "metadata": {},
   "source": [
    "`Customer 33663706799,33614892860,33625779332 have the highest number of sessions, the data is free of outliers but customer number 33663706799 has got the highest session frequency`"
   ]
  },
  {
   "cell_type": "markdown",
   "id": "65859ad6",
   "metadata": {},
   "source": [
    "<i>`Top 10 customers based on duration of session`</i>"
   ]
  },
  {
   "cell_type": "code",
   "execution_count": 153,
   "id": "6a998d34",
   "metadata": {},
   "outputs": [
    {
     "data": {
      "text/html": [
       "<div>\n",
       "<style scoped>\n",
       "    .dataframe tbody tr th:only-of-type {\n",
       "        vertical-align: middle;\n",
       "    }\n",
       "\n",
       "    .dataframe tbody tr th {\n",
       "        vertical-align: top;\n",
       "    }\n",
       "\n",
       "    .dataframe thead th {\n",
       "        text-align: right;\n",
       "    }\n",
       "</style>\n",
       "<table border=\"1\" class=\"dataframe\">\n",
       "  <thead>\n",
       "    <tr style=\"text-align: right;\">\n",
       "      <th></th>\n",
       "      <th>msisdn/number</th>\n",
       "      <th>dur._(ms)</th>\n",
       "    </tr>\n",
       "  </thead>\n",
       "  <tbody>\n",
       "    <tr>\n",
       "      <th>53644</th>\n",
       "      <td>3.366371e+10</td>\n",
       "      <td>72655568.0</td>\n",
       "    </tr>\n",
       "    <tr>\n",
       "      <th>13180</th>\n",
       "      <td>3.362578e+10</td>\n",
       "      <td>18553754.0</td>\n",
       "    </tr>\n",
       "    <tr>\n",
       "      <th>6437</th>\n",
       "      <td>3.361489e+10</td>\n",
       "      <td>9966898.0</td>\n",
       "    </tr>\n",
       "    <tr>\n",
       "      <th>92923</th>\n",
       "      <td>3.376054e+10</td>\n",
       "      <td>9279434.0</td>\n",
       "    </tr>\n",
       "    <tr>\n",
       "      <th>13526</th>\n",
       "      <td>3.362632e+10</td>\n",
       "      <td>8791927.0</td>\n",
       "    </tr>\n",
       "    <tr>\n",
       "      <th>65118</th>\n",
       "      <td>3.366716e+10</td>\n",
       "      <td>8744914.0</td>\n",
       "    </tr>\n",
       "    <tr>\n",
       "      <th>50281</th>\n",
       "      <td>3.366284e+10</td>\n",
       "      <td>6614270.0</td>\n",
       "    </tr>\n",
       "    <tr>\n",
       "      <th>57160</th>\n",
       "      <td>3.366469e+10</td>\n",
       "      <td>6288730.0</td>\n",
       "    </tr>\n",
       "    <tr>\n",
       "      <th>666</th>\n",
       "      <td>3.360313e+10</td>\n",
       "      <td>6287761.0</td>\n",
       "    </tr>\n",
       "    <tr>\n",
       "      <th>66029</th>\n",
       "      <td>3.366746e+10</td>\n",
       "      <td>5649882.0</td>\n",
       "    </tr>\n",
       "  </tbody>\n",
       "</table>\n",
       "</div>"
      ],
      "text/plain": [
       "       msisdn/number   dur._(ms)\n",
       "53644   3.366371e+10  72655568.0\n",
       "13180   3.362578e+10  18553754.0\n",
       "6437    3.361489e+10   9966898.0\n",
       "92923   3.376054e+10   9279434.0\n",
       "13526   3.362632e+10   8791927.0\n",
       "65118   3.366716e+10   8744914.0\n",
       "50281   3.366284e+10   6614270.0\n",
       "57160   3.366469e+10   6288730.0\n",
       "666     3.360313e+10   6287761.0\n",
       "66029   3.366746e+10   5649882.0"
      ]
     },
     "execution_count": 153,
     "metadata": {},
     "output_type": "execute_result"
    }
   ],
   "source": [
    "top10_customers_by_sess_duration=df.groupby('msisdn/number').agg({'dur._(ms)':'sum'}).reset_index().sort_values('dur._(ms)',ascending=False).head(10)\n",
    "top10_customers_by_sess_duration"
   ]
  },
  {
   "cell_type": "code",
   "execution_count": 154,
   "id": "f396756d",
   "metadata": {},
   "outputs": [
    {
     "data": {
      "text/plain": [
       "Text(0.5, 1.0, 'Top 10 customers by duration of sessions')"
      ]
     },
     "execution_count": 154,
     "metadata": {},
     "output_type": "execute_result"
    },
    {
     "data": {
      "image/png": "[encoded data removed]",
      "text/plain": [
       "<Figure size 864x576 with 1 Axes>"
      ]
     },
     "metadata": {
      "needs_background": "light"
     },
     "output_type": "display_data"
    }
   ],
   "source": [
    "plt.subplots(figsize=(12,8))\n",
    "sns.barplot(x='msisdn/number',y='dur._(ms)',data=top10_customers_by_sess_duration)\n",
    "plt.xticks(rotation=40)\n",
    "plt.xlabel(\"Customer MSISDN Number\")\n",
    "plt.ylabel(\"duration of the sessions \")\n",
    "plt.title('Top 10 customers by duration of sessions',fontsize=18)"
   ]
  },
  {
   "cell_type": "markdown",
   "id": "489d71f5",
   "metadata": {},
   "source": [
    "<b>`Top 10 customers by total traffic`</b>"
   ]
  },
  {
   "cell_type": "code",
   "execution_count": 155,
   "id": "1aa0efb6",
   "metadata": {},
   "outputs": [
    {
     "data": {
      "text/html": [
       "<div>\n",
       "<style scoped>\n",
       "    .dataframe tbody tr th:only-of-type {\n",
       "        vertical-align: middle;\n",
       "    }\n",
       "\n",
       "    .dataframe tbody tr th {\n",
       "        vertical-align: top;\n",
       "    }\n",
       "\n",
       "    .dataframe thead th {\n",
       "        text-align: right;\n",
       "    }\n",
       "</style>\n",
       "<table border=\"1\" class=\"dataframe\">\n",
       "  <thead>\n",
       "    <tr style=\"text-align: right;\">\n",
       "      <th></th>\n",
       "      <th>msisdn/number</th>\n",
       "      <th>total_data</th>\n",
       "    </tr>\n",
       "  </thead>\n",
       "  <tbody>\n",
       "    <tr>\n",
       "      <th>53644</th>\n",
       "      <td>3.366371e+10</td>\n",
       "      <td>531963.557517</td>\n",
       "    </tr>\n",
       "    <tr>\n",
       "      <th>6437</th>\n",
       "      <td>3.361489e+10</td>\n",
       "      <td>8846.226494</td>\n",
       "    </tr>\n",
       "    <tr>\n",
       "      <th>92923</th>\n",
       "      <td>3.376054e+10</td>\n",
       "      <td>8514.773963</td>\n",
       "    </tr>\n",
       "    <tr>\n",
       "      <th>13180</th>\n",
       "      <td>3.362578e+10</td>\n",
       "      <td>8499.620722</td>\n",
       "    </tr>\n",
       "    <tr>\n",
       "      <th>13526</th>\n",
       "      <td>3.362632e+10</td>\n",
       "      <td>7971.167261</td>\n",
       "    </tr>\n",
       "    <tr>\n",
       "      <th>76363</th>\n",
       "      <td>3.367588e+10</td>\n",
       "      <td>7891.110608</td>\n",
       "    </tr>\n",
       "    <tr>\n",
       "      <th>37052</th>\n",
       "      <td>3.365973e+10</td>\n",
       "      <td>7705.862783</td>\n",
       "    </tr>\n",
       "    <tr>\n",
       "      <th>63028</th>\n",
       "      <td>3.366646e+10</td>\n",
       "      <td>7308.500938</td>\n",
       "    </tr>\n",
       "    <tr>\n",
       "      <th>92577</th>\n",
       "      <td>3.376041e+10</td>\n",
       "      <td>7132.370514</td>\n",
       "    </tr>\n",
       "    <tr>\n",
       "      <th>57241</th>\n",
       "      <td>3.366471e+10</td>\n",
       "      <td>6872.018208</td>\n",
       "    </tr>\n",
       "  </tbody>\n",
       "</table>\n",
       "</div>"
      ],
      "text/plain": [
       "       msisdn/number     total_data\n",
       "53644   3.366371e+10  531963.557517\n",
       "6437    3.361489e+10    8846.226494\n",
       "92923   3.376054e+10    8514.773963\n",
       "13180   3.362578e+10    8499.620722\n",
       "13526   3.362632e+10    7971.167261\n",
       "76363   3.367588e+10    7891.110608\n",
       "37052   3.365973e+10    7705.862783\n",
       "63028   3.366646e+10    7308.500938\n",
       "92577   3.376041e+10    7132.370514\n",
       "57241   3.366471e+10    6872.018208"
      ]
     },
     "execution_count": 155,
     "metadata": {},
     "output_type": "execute_result"
    }
   ],
   "source": [
    "top10_cust_traffic=df.groupby('msisdn/number').agg({'total_data':'sum'}).reset_index().sort_values('total_data',ascending=False).head(10)\n",
    "top10_cust_traffic"
   ]
  },
  {
   "cell_type": "code",
   "execution_count": 156,
   "id": "6c2319d7",
   "metadata": {},
   "outputs": [
    {
     "data": {
      "text/plain": [
       "Text(0.5, 1.0, 'Top 10 customers by traffic')"
      ]
     },
     "execution_count": 156,
     "metadata": {},
     "output_type": "execute_result"
    },
    {
     "data": {
      "image/png": "[encoded data removed]",
      "text/plain": [
       "<Figure size 864x576 with 1 Axes>"
      ]
     },
     "metadata": {
      "needs_background": "light"
     },
     "output_type": "display_data"
    }
   ],
   "source": [
    "plt.subplots(figsize=(12,8))\n",
    "sns.barplot(x='msisdn/number',y='total_data',data=top10_cust_traffic)\n",
    "plt.xticks(rotation=40)\n",
    "plt.xlabel(\"Customer MSISDN Number\")\n",
    "plt.ylabel(\"Total Traffic(DL+UL) \")\n",
    "plt.title('Top 10 customers by traffic',fontsize=18)"
   ]
  },
  {
   "cell_type": "code",
   "execution_count": 157,
   "id": "1b7f0867",
   "metadata": {},
   "outputs": [
    {
     "data": {
      "text/plain": [
       "Index(['bearer_id', 'start', 'start_ms', 'end', 'end_ms', 'dur._(ms)', 'imsi',\n",
       "       'msisdn/number', 'imei', 'last_location_name', 'avg_rtt_dl_(ms)',\n",
       "       'avg_rtt_ul_(ms)', 'avg_bearer_tp_dl_(kbps)', 'avg_bearer_tp_ul_(kbps)',\n",
       "       'tcp_dl_retrans._vol_(bytes)', 'tcp_ul_retrans._vol_(bytes)',\n",
       "       'dl_tp_<_50_kbps_(%)', '50_kbps_<_dl_tp_<_250_kbps_(%)',\n",
       "       '250_kbps_<_dl_tp_<_1_mbps_(%)', 'dl_tp_>_1_mbps_(%)',\n",
       "       'ul_tp_<_10_kbps_(%)', '10_kbps_<_ul_tp_<_50_kbps_(%)',\n",
       "       '50_kbps_<_ul_tp_<_300_kbps_(%)', 'ul_tp_>_300_kbps_(%)',\n",
       "       'http_dl_(bytes)', 'http_ul_(bytes)', 'activity_duration_dl_(ms)',\n",
       "       'activity_duration_ul_(ms)', 'dur._(ms).1', 'handset_manufacturer',\n",
       "       'handset_type', 'nb_of_sec_with_125000b_<_vol_dl',\n",
       "       'nb_of_sec_with_1250b_<_vol_ul_<_6250b',\n",
       "       'nb_of_sec_with_31250b_<_vol_dl_<_125000b',\n",
       "       'nb_of_sec_with_37500b_<_vol_ul',\n",
       "       'nb_of_sec_with_6250b_<_vol_dl_<_31250b',\n",
       "       'nb_of_sec_with_6250b_<_vol_ul_<_37500b',\n",
       "       'nb_of_sec_with_vol_dl_<_6250b', 'nb_of_sec_with_vol_ul_<_1250b',\n",
       "       'social_media_dl_(bytes)', 'social_media_ul_(bytes)',\n",
       "       'google_dl_(bytes)', 'google_ul_(bytes)', 'email_dl_(bytes)',\n",
       "       'email_ul_(bytes)', 'youtube_dl_(bytes)', 'youtube_ul_(bytes)',\n",
       "       'netflix_dl_(bytes)', 'netflix_ul_(bytes)', 'gaming_dl_(bytes)',\n",
       "       'gaming_ul_(bytes)', 'other_dl_(bytes)', 'other_ul_(bytes)',\n",
       "       'total_ul_(bytes)', 'total_dl_(bytes)', 'social_media', 'google',\n",
       "       'email', 'youtube', 'netflix', 'gaming', 'other', 'total_data'],\n",
       "      dtype='object')"
      ]
     },
     "execution_count": 157,
     "metadata": {},
     "output_type": "execute_result"
    }
   ],
   "source": [
    "df.columns"
   ]
  },
  {
   "cell_type": "code",
   "execution_count": 158,
   "id": "99045f0e",
   "metadata": {},
   "outputs": [],
   "source": [
    "df[\"total_social_media_session\"] = df[\"social_media_dl_(bytes)\"] + df['social_media_ul_(bytes)']\n",
    "df[\"total_google_session\"] = df[\"google_dl_(bytes)\"] + df[\"google_ul_(bytes)\"]\n",
    "df['total_email_session'] = df[\"email_dl_(bytes)\"] + df[\"email_ul_(bytes)\"]\n",
    "df['total_youtube_session'] = df[\"youtube_dl_(bytes)\"] + df[\"youtube_ul_(bytes)\"]\n",
    "df['total_netflix_session'] = df[\"netflix_dl_(bytes)\"] + df[\"netflix_ul_(bytes)\"]\n",
    "df[\"total_gaming_session\"] = df[\"gaming_dl_(bytes)\"] + df[\"gaming_ul_(bytes)\"]\n",
    "df['total_other_session'] = df[\"other_dl_(bytes)\"]+df[\"other_ul_(bytes)\"]\n",
    "df['total_data'] = df['total_dl_(bytes)'] + df['total_ul_(bytes)']"
   ]
  },
  {
   "cell_type": "markdown",
   "id": "ec38c8b2",
   "metadata": {},
   "source": [
    "`Aggregate the number of session durations, total session duration, & total data for each user`"
   ]
  },
  {
   "cell_type": "code",
   "execution_count": 159,
   "id": "5e8bcb25",
   "metadata": {},
   "outputs": [],
   "source": [
    "df = df.rename( columns={'bearer_id': 'sessions'})"
   ]
  },
  {
   "cell_type": "code",
   "execution_count": 160,
   "id": "6f9bc771",
   "metadata": {},
   "outputs": [],
   "source": [
    "engagement = df.groupby('msisdn/number').agg({'sessions': 'count', 'dur._(ms)': 'sum', 'total_data': 'sum'})"
   ]
  },
  {
   "cell_type": "code",
   "execution_count": 161,
   "id": "6df1b4fe",
   "metadata": {},
   "outputs": [
    {
     "data": {
      "text/html": [
       "<div>\n",
       "<style scoped>\n",
       "    .dataframe tbody tr th:only-of-type {\n",
       "        vertical-align: middle;\n",
       "    }\n",
       "\n",
       "    .dataframe tbody tr th {\n",
       "        vertical-align: top;\n",
       "    }\n",
       "\n",
       "    .dataframe thead th {\n",
       "        text-align: right;\n",
       "    }\n",
       "</style>\n",
       "<table border=\"1\" class=\"dataframe\">\n",
       "  <thead>\n",
       "    <tr style=\"text-align: right;\">\n",
       "      <th></th>\n",
       "      <th>sessions</th>\n",
       "      <th>dur._(ms)</th>\n",
       "      <th>total_data</th>\n",
       "    </tr>\n",
       "    <tr>\n",
       "      <th>msisdn/number</th>\n",
       "      <th></th>\n",
       "      <th></th>\n",
       "      <th></th>\n",
       "    </tr>\n",
       "  </thead>\n",
       "  <tbody>\n",
       "    <tr>\n",
       "      <th>3.360100e+10</th>\n",
       "      <td>1</td>\n",
       "      <td>116720.0</td>\n",
       "      <td>8.786906e+08</td>\n",
       "    </tr>\n",
       "    <tr>\n",
       "      <th>3.360100e+10</th>\n",
       "      <td>1</td>\n",
       "      <td>181230.0</td>\n",
       "      <td>1.568596e+08</td>\n",
       "    </tr>\n",
       "    <tr>\n",
       "      <th>3.360100e+10</th>\n",
       "      <td>1</td>\n",
       "      <td>134969.0</td>\n",
       "      <td>5.959665e+08</td>\n",
       "    </tr>\n",
       "    <tr>\n",
       "      <th>3.360101e+10</th>\n",
       "      <td>1</td>\n",
       "      <td>49878.0</td>\n",
       "      <td>4.223207e+08</td>\n",
       "    </tr>\n",
       "    <tr>\n",
       "      <th>3.360101e+10</th>\n",
       "      <td>2</td>\n",
       "      <td>37104.0</td>\n",
       "      <td>1.457411e+09</td>\n",
       "    </tr>\n",
       "  </tbody>\n",
       "</table>\n",
       "</div>"
      ],
      "text/plain": [
       "               sessions  dur._(ms)    total_data\n",
       "msisdn/number                                   \n",
       "3.360100e+10          1   116720.0  8.786906e+08\n",
       "3.360100e+10          1   181230.0  1.568596e+08\n",
       "3.360100e+10          1   134969.0  5.959665e+08\n",
       "3.360101e+10          1    49878.0  4.223207e+08\n",
       "3.360101e+10          2    37104.0  1.457411e+09"
      ]
     },
     "execution_count": 161,
     "metadata": {},
     "output_type": "execute_result"
    }
   ],
   "source": [
    "engagement.head()"
   ]
  },
  {
   "cell_type": "markdown",
   "id": "8d412c43",
   "metadata": {},
   "source": [
    "<b>`2.1 - Users data analysis`</b>"
   ]
  },
  {
   "cell_type": "code",
   "execution_count": null,
   "id": "5d041bca",
   "metadata": {},
   "outputs": [],
   "source": []
  },
  {
   "cell_type": "code",
   "execution_count": null,
   "id": "639348c7",
   "metadata": {},
   "outputs": [],
   "source": []
  },
  {
   "cell_type": "code",
   "execution_count": null,
   "id": "b525be48",
   "metadata": {},
   "outputs": [],
   "source": []
  },
  {
   "cell_type": "code",
   "execution_count": null,
   "id": "6d899778",
   "metadata": {},
   "outputs": [],
   "source": []
  },
  {
   "cell_type": "code",
   "execution_count": null,
   "id": "9e802b7f",
   "metadata": {},
   "outputs": [],
   "source": []
  }
 ],
 "metadata": {
  "kernelspec": {
   "display_name": "Python 3 (ipykernel)",
   "language": "python",
   "name": "python3"
  },
  "language_info": {
   "codemirror_mode": {
    "name": "ipython",
    "version": 3
   },
   "file_extension": ".py",
   "mimetype": "text/x-python",
   "name": "python",
   "nbconvert_exporter": "python",
   "pygments_lexer": "ipython3",
   "version": "3.7.11"
  }
 },
 "nbformat": 4,
 "nbformat_minor": 5
}
